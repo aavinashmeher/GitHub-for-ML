{
 "cells": [
  {
   "cell_type": "code",
   "execution_count": 11,
   "metadata": {
    "scrolled": true
   },
   "outputs": [],
   "source": [
    "# ============================== loading libraries ===========================================\n",
    "import numpy as np\n",
    "import pandas as pd\n",
    "import matplotlib.pyplot as plt\n",
    "from sklearn.cross_validation import train_test_split\n",
    "from sklearn.neighbors import KNeighborsClassifier\n",
    "from sklearn.metrics import accuracy_score\n",
    "from sklearn.cross_validation import cross_val_score\n",
    "from collections import Counter\n",
    "from sklearn.metrics import accuracy_score\n",
    "from sklearn import cross_validation\n",
    "\n",
    "from sklearn import datasets, neighbors\n",
    "from sklearn.model_selection import TimeSeriesSplit\n",
    "import pickle\n",
    "import scipy\n",
    "import time\n",
    "# ============================================================================================="
   ]
  },
  {
   "cell_type": "code",
   "execution_count": 12,
   "metadata": {},
   "outputs": [],
   "source": [
    "#Function to pickle in an object.\n",
    "def openPickleFile(name): #name = the pickle file name, this should be passed as a string inside \" \".\n",
    "    global temp\n",
    "    temp = pickle.load(open(name + \".pickle\",\"rb\"))\n",
    "    return temp"
   ]
  },
  {
   "cell_type": "code",
   "execution_count": 13,
   "metadata": {},
   "outputs": [
    {
     "name": "stdout",
     "output_type": "stream",
     "text": [
      "(33334,)\n",
      "object\n"
     ]
    }
   ],
   "source": [
    "openPickleFile(\"y_train\")\n",
    "y_train = temp\n",
    "print(y_train.shape)\n",
    "print(y_train.dtype)"
   ]
  },
  {
   "cell_type": "code",
   "execution_count": 14,
   "metadata": {},
   "outputs": [
    {
     "name": "stdout",
     "output_type": "stream",
     "text": [
      "float64\n"
     ]
    }
   ],
   "source": [
    "y_train[y_train == 'positive'] = 1\n",
    "y_train[y_train == 'negative'] = 0\n",
    "y_train = y_train.astype(float)\n",
    "print(y_train.dtype)"
   ]
  },
  {
   "cell_type": "code",
   "execution_count": 15,
   "metadata": {},
   "outputs": [
    {
     "name": "stdout",
     "output_type": "stream",
     "text": [
      "(16666,)\n",
      "object\n"
     ]
    }
   ],
   "source": [
    "openPickleFile(\"y_test\")\n",
    "y_test = temp\n",
    "print(y_test.shape)\n",
    "print(y_test.dtype)"
   ]
  },
  {
   "cell_type": "code",
   "execution_count": 16,
   "metadata": {},
   "outputs": [
    {
     "name": "stdout",
     "output_type": "stream",
     "text": [
      "float64\n"
     ]
    }
   ],
   "source": [
    "y_test[y_test == 'positive'] = 1\n",
    "y_test[y_test == 'negative'] = 0\n",
    "y_test = y_test.astype(float)\n",
    "print(y_test.dtype)"
   ]
  },
  {
   "cell_type": "code",
   "execution_count": 17,
   "metadata": {},
   "outputs": [
    {
     "data": {
      "text/plain": [
       "array([[0.0000e+00, 4.9490e+03],\n",
       "       [1.0000e+00, 2.8385e+04]])"
      ]
     },
     "execution_count": 17,
     "metadata": {},
     "output_type": "execute_result"
    }
   ],
   "source": [
    "#Function to count no. of unique values in variable of any datatype.\n",
    "def unique_count(a):\n",
    "    unique, inverse = np.unique(a, return_inverse=True)\n",
    "    count = np.zeros(len(unique), np.int)\n",
    "    np.add.at(count, inverse, 1)\n",
    "    return np.vstack(( unique, count)).T\n",
    "\n",
    "unique_count(y_train)"
   ]
  },
  {
   "cell_type": "markdown",
   "metadata": {
    "collapsed": true
   },
   "source": [
    "#  CV using brute force algorithm"
   ]
  },
  {
   "cell_type": "markdown",
   "metadata": {
    "collapsed": true
   },
   "source": [
    "# 1. CV on TSNE data for Unigrams"
   ]
  },
  {
   "cell_type": "code",
   "execution_count": 22,
   "metadata": {
    "scrolled": true
   },
   "outputs": [
    {
     "name": "stdout",
     "output_type": "stream",
     "text": [
      "(33334, 2)\n",
      "[[ 12.46622326  26.68865382]\n",
      " [  1.17547167  -1.30889228]\n",
      " [ -5.1770876  -31.8098705 ]\n",
      " ...\n",
      " [  0.64622451  -3.06533227]\n",
      " [  0.24541933 -45.5613387 ]\n",
      " [ -0.64599662 -47.17865137]]\n"
     ]
    }
   ],
   "source": [
    "openPickleFile(\"X_train_BOW_unigram_tsne\")\n",
    "X_train = temp\n",
    "print(X_train.shape)\n",
    "print(X_train)"
   ]
  },
  {
   "cell_type": "code",
   "execution_count": 23,
   "metadata": {},
   "outputs": [
    {
     "name": "stdout",
     "output_type": "stream",
     "text": [
      "(16666, 2)\n",
      "[[-18.59322819   4.86198982]\n",
      " [-18.75219032  13.55477536]\n",
      " [-13.0023866   -0.40266338]\n",
      " ...\n",
      " [-11.19247968  -2.11470198]\n",
      " [ 26.50356308 -40.52768428]\n",
      " [ 33.4091974    6.10837994]]\n"
     ]
    }
   ],
   "source": [
    "openPickleFile(\"X_test_BOW_unigram_tsne\")\n",
    "X_test = temp\n",
    "print(X_test.shape)\n",
    "print(X_test)"
   ]
  },
  {
   "cell_type": "code",
   "execution_count": 24,
   "metadata": {},
   "outputs": [
    {
     "data": {
      "text/plain": [
       "array([[0.0000e+00, 4.9490e+03],\n",
       "       [1.0000e+00, 2.8385e+04]])"
      ]
     },
     "execution_count": 24,
     "metadata": {},
     "output_type": "execute_result"
    }
   ],
   "source": [
    "def unique(a):\n",
    "    unique, counts = np.unique(a, return_counts=True)\n",
    "    return np.asarray((unique, counts)).T\n",
    "\n",
    "unique(y_train)"
   ]
  },
  {
   "cell_type": "code",
   "execution_count": 25,
   "metadata": {
    "scrolled": false
   },
   "outputs": [
    {
     "name": "stdout",
     "output_type": "stream",
     "text": [
      "\n",
      "CV accuracy for k = 1 is 77%\n",
      "\n",
      "CV accuracy for k = 3 is 82%\n",
      "\n",
      "CV accuracy for k = 5 is 83%\n",
      "\n",
      "CV accuracy for k = 7 is 84%\n",
      "\n",
      "CV accuracy for k = 9 is 85%\n",
      "\n",
      "CV accuracy for k = 11 is 85%\n",
      "\n",
      "CV accuracy for k = 13 is 85%\n",
      "\n",
      "CV accuracy for k = 15 is 85%\n",
      "\n",
      "CV accuracy for k = 17 is 85%\n",
      "\n",
      "CV accuracy for k = 19 is 85%\n",
      "\n",
      "CV accuracy for k = 21 is 85%\n",
      "\n",
      "CV accuracy for k = 23 is 85%\n",
      "\n",
      "CV accuracy for k = 25 is 85%\n",
      "\n",
      "CV accuracy for k = 27 is 85%\n",
      "\n",
      "CV accuracy for k = 29 is 85%\n",
      "\n",
      "****Test accuracy for k = 1 is 72%\n",
      "CV for k in range(1,30,2) done! Time elapsed: 167.70819854736328 seconds\n"
     ]
    }
   ],
   "source": [
    "# split the train data set into cross validation train and cross validation test\n",
    "time_start = time.time()\n",
    "\n",
    "X_tr, X_cv, y_tr, y_cv = cross_validation.train_test_split(X_train, y_train, test_size=0.3)\n",
    "\n",
    "for i in range(1,30,2):\n",
    "    # instantiate learning model (k = 30)\n",
    "    knn = KNeighborsClassifier(n_neighbors=i, algorithm='brute', n_jobs = 6)\n",
    "\n",
    "    # fitting the model on crossvalidation train\n",
    "    knn.fit(X_tr, y_tr)\n",
    "\n",
    "    # predict the response on the crossvalidation train\n",
    "    pred = knn.predict(X_cv)\n",
    "\n",
    "    # evaluate CV accuracy\n",
    "    acc = accuracy_score(y_cv, pred, normalize=True) * float(100)\n",
    "    print('\\nCV accuracy for k = %d is %d%%' % (i, acc))\n",
    "    \n",
    "knn = KNeighborsClassifier(1)\n",
    "knn.fit(X_tr,y_tr)\n",
    "pred = knn.predict(X_test)\n",
    "acc = accuracy_score(y_test, pred, normalize=True) * float(100)\n",
    "print('\\n****Test accuracy for k = 1 is %d%%' % (acc))\n",
    "\n",
    "print ('CV for k in range(1,30,2) done! Time elapsed: {} seconds'.format(time.time()-time_start))"
   ]
  },
  {
   "cell_type": "markdown",
   "metadata": {},
   "source": [
    "### 10 fold cross validation "
   ]
  },
  {
   "cell_type": "code",
   "execution_count": 26,
   "metadata": {},
   "outputs": [
    {
     "name": "stdout",
     "output_type": "stream",
     "text": [
      "\n",
      "The optimal number of neighbors is 27.\n"
     ]
    },
    {
     "data": {
      "image/png": "[encoded data removed]",
      "text/plain": [
       "<Figure size 432x288 with 1 Axes>"
      ]
     },
     "metadata": {
      "needs_background": "light"
     },
     "output_type": "display_data"
    },
    {
     "name": "stdout",
     "output_type": "stream",
     "text": [
      "the misclassification error for each k value is :  [0.217 0.178 0.164 0.157 0.153 0.151 0.151 0.15  0.149 0.148 0.148 0.147\n",
      " 0.146 0.146 0.147 0.147 0.147 0.146 0.146 0.146 0.147 0.146 0.146 0.147\n",
      " 0.147]\n",
      " 10-fold CV for k in range(1,50,2) done! Time elapsed: 1376.116530418396 seconds\n"
     ]
    }
   ],
   "source": [
    "time_start = time.time()\n",
    "\n",
    "# creating odd list of K for KNN\n",
    "myList = list(range(0,50))\n",
    "neighbors = list(filter(lambda x: x % 2 != 0, myList))\n",
    "\n",
    "# empty list that will hold cv scores\n",
    "cv_scores = []\n",
    "\n",
    "# perform 10-fold cross validation\n",
    "for k in neighbors:\n",
    "    knn = KNeighborsClassifier(n_neighbors=k, algorithm='brute', n_jobs = 6)\n",
    "    scores = cross_val_score(knn, X_train, y_train, cv=10, scoring='accuracy')\n",
    "    cv_scores.append(scores.mean())\n",
    "\n",
    "# changing to misclassification error\n",
    "MSE = [1 - x for x in cv_scores]\n",
    "\n",
    "# determining best k\n",
    "optimal_k = neighbors[MSE.index(min(MSE))]\n",
    "print('\\nThe optimal number of neighbors is %d.' % optimal_k)\n",
    "\n",
    "# plot misclassification error vs k \n",
    "plt.plot(neighbors, MSE)\n",
    "\n",
    "for xy in zip(neighbors, np.round(MSE,3)):\n",
    "    plt.annotate('(%s, %s)' % xy, xy=xy, textcoords='data')\n",
    "\n",
    "plt.xlabel('Number of Neighbors K')\n",
    "plt.ylabel('Misclassification Error')\n",
    "plt.show()\n",
    "\n",
    "print(\"the misclassification error for each k value is : \", np.round(MSE,3))\n",
    "\n",
    "print (' 10-fold CV for k in range(1,50,2) done! Time elapsed: {} seconds'.format(time.time()-time_start))"
   ]
  },
  {
   "cell_type": "code",
   "execution_count": 27,
   "metadata": {},
   "outputs": [
    {
     "name": "stdout",
     "output_type": "stream",
     "text": [
      "\n",
      "The accuracy of the knn classifier for k = 27 is 81.399256%\n",
      " CV for optimal k on Test data done! Time elapsed: 27.018742322921753 seconds\n"
     ]
    }
   ],
   "source": [
    "# ============================== KNN with k = optimal_k ===============================================\n",
    "# instantiate learning model k = optimal_k\n",
    "time_start = time.time()\n",
    "\n",
    "knn_optimal = KNeighborsClassifier(n_neighbors=optimal_k, algorithm='brute', n_jobs = 6)\n",
    "\n",
    "# fitting the model\n",
    "knn_optimal.fit(X_train, y_train)\n",
    "\n",
    "# predict the response\n",
    "pred = knn_optimal.predict(X_test)\n",
    "\n",
    "# evaluate accuracy\n",
    "acc = accuracy_score(y_test, pred) * 100\n",
    "print('\\nThe accuracy of the knn classifier for k = %d is %f%%' % (optimal_k, acc))\n",
    "\n",
    "print (' CV for optimal k on Test data done! Time elapsed: {} seconds'.format(time.time()-time_start))"
   ]
  },
  {
   "cell_type": "markdown",
   "metadata": {
    "collapsed": true
   },
   "source": [
    "# 2. CV on TSNE data of Bigrams"
   ]
  },
  {
   "cell_type": "code",
   "execution_count": 28,
   "metadata": {},
   "outputs": [
    {
     "name": "stdout",
     "output_type": "stream",
     "text": [
      "(33334, 2)\n",
      "[[ 22.667371   -13.87228896]\n",
      " [  4.79317407  -6.40870396]\n",
      " [ -1.39810703 -40.15319331]\n",
      " ...\n",
      " [  5.64008344  -8.01493589]\n",
      " [  4.06429635 -42.74992263]\n",
      " [  0.84614955 -42.09851174]]\n"
     ]
    }
   ],
   "source": [
    "openPickleFile(\"X_train_BOW_bigram_tsne\")\n",
    "X_train = temp\n",
    "print(X_train.shape)\n",
    "print(X_train)"
   ]
  },
  {
   "cell_type": "code",
   "execution_count": 29,
   "metadata": {},
   "outputs": [
    {
     "name": "stdout",
     "output_type": "stream",
     "text": [
      "(16666, 2)\n",
      "[[-18.18187498  -5.11136383]\n",
      " [-18.25962647  14.63319435]\n",
      " [  6.95168296  -0.37124685]\n",
      " ...\n",
      " [ -1.43422316  -1.92870666]\n",
      " [ 48.2896976    1.5626412 ]\n",
      " [ 33.74972866  -3.9209257 ]]\n"
     ]
    }
   ],
   "source": [
    "openPickleFile(\"X_test_BOW_bigram_tsne\")\n",
    "X_test = temp\n",
    "print(X_test.shape)\n",
    "print(X_test)"
   ]
  },
  {
   "cell_type": "code",
   "execution_count": 30,
   "metadata": {
    "scrolled": false
   },
   "outputs": [
    {
     "name": "stdout",
     "output_type": "stream",
     "text": [
      "\n",
      "CV accuracy for k = 1 is 79%\n",
      "\n",
      "CV accuracy for k = 3 is 82%\n",
      "\n",
      "CV accuracy for k = 5 is 84%\n",
      "\n",
      "CV accuracy for k = 7 is 84%\n",
      "\n",
      "CV accuracy for k = 9 is 84%\n",
      "\n",
      "CV accuracy for k = 11 is 84%\n",
      "\n",
      "CV accuracy for k = 13 is 85%\n",
      "\n",
      "CV accuracy for k = 15 is 85%\n",
      "\n",
      "CV accuracy for k = 17 is 85%\n",
      "\n",
      "CV accuracy for k = 19 is 85%\n",
      "\n",
      "CV accuracy for k = 21 is 85%\n",
      "\n",
      "CV accuracy for k = 23 is 85%\n",
      "\n",
      "CV accuracy for k = 25 is 85%\n",
      "\n",
      "CV accuracy for k = 27 is 85%\n",
      "\n",
      "CV accuracy for k = 29 is 85%\n",
      "\n",
      "****Test accuracy for k = 1 is 73%\n",
      "CV for k in range(1,30,2) done! Time elapsed: 170.66497898101807 seconds\n"
     ]
    }
   ],
   "source": [
    "# split the train data set into cross validation train and cross validation test\n",
    "time_start = time.time()\n",
    "\n",
    "X_tr, X_cv, y_tr, y_cv = cross_validation.train_test_split(X_train, y_train, test_size=0.3)\n",
    "\n",
    "for i in range(1,30,2):\n",
    "    # instantiate learning model (k = 30)\n",
    "    knn = KNeighborsClassifier(n_neighbors=i, algorithm='brute', n_jobs = 6)\n",
    "\n",
    "    # fitting the model on crossvalidation train\n",
    "    knn.fit(X_tr, y_tr)\n",
    "\n",
    "    # predict the response on the crossvalidation train\n",
    "    pred = knn.predict(X_cv)\n",
    "\n",
    "    # evaluate CV accuracy\n",
    "    acc = accuracy_score(y_cv, pred, normalize=True) * float(100)\n",
    "    print('\\nCV accuracy for k = %d is %d%%' % (i, acc))\n",
    "    \n",
    "knn = KNeighborsClassifier(1)\n",
    "knn.fit(X_tr,y_tr)\n",
    "pred = knn.predict(X_test)\n",
    "acc = accuracy_score(y_test, pred, normalize=True) * float(100)\n",
    "print('\\n****Test accuracy for k = 1 is %d%%' % (acc))\n",
    "\n",
    "print ('CV for k in range(1,30,2) done! Time elapsed: {} seconds'.format(time.time()-time_start))"
   ]
  },
  {
   "cell_type": "markdown",
   "metadata": {},
   "source": [
    "### 10 fold cross validation "
   ]
  },
  {
   "cell_type": "code",
   "execution_count": 31,
   "metadata": {},
   "outputs": [
    {
     "name": "stdout",
     "output_type": "stream",
     "text": [
      "\n",
      "The optimal number of neighbors is 31.\n"
     ]
    },
    {
     "data": {
      "image/png": "[encoded data removed]",
      "text/plain": [
       "<Figure size 432x288 with 1 Axes>"
      ]
     },
     "metadata": {
      "needs_background": "light"
     },
     "output_type": "display_data"
    },
    {
     "name": "stdout",
     "output_type": "stream",
     "text": [
      "the misclassification error for each k value is :  [0.217 0.179 0.166 0.158 0.156 0.153 0.152 0.151 0.149 0.149 0.149 0.149\n",
      " 0.148 0.148 0.148 0.148 0.148 0.148 0.148 0.148 0.148 0.148 0.148 0.148\n",
      " 0.148]\n",
      " 10-fold CV for k in range(1,50,2) done! Time elapsed: 1372.628217458725 seconds\n"
     ]
    }
   ],
   "source": [
    "time_start = time.time()\n",
    "\n",
    "# creating odd list of K for KNN\n",
    "myList = list(range(0,50))\n",
    "neighbors = list(filter(lambda x: x % 2 != 0, myList))\n",
    "\n",
    "# empty list that will hold cv scores\n",
    "cv_scores = []\n",
    "\n",
    "# perform 10-fold cross validation\n",
    "for k in neighbors:\n",
    "    knn = KNeighborsClassifier(n_neighbors=k, algorithm='brute', n_jobs = 6)\n",
    "    scores = cross_val_score(knn, X_train, y_train, cv=10, scoring='accuracy')\n",
    "    cv_scores.append(scores.mean())\n",
    "\n",
    "# changing to misclassification error\n",
    "MSE = [1 - x for x in cv_scores]\n",
    "\n",
    "# determining best k\n",
    "optimal_k = neighbors[MSE.index(min(MSE))]\n",
    "print('\\nThe optimal number of neighbors is %d.' % optimal_k)\n",
    "\n",
    "# plot misclassification error vs k \n",
    "plt.plot(neighbors, MSE)\n",
    "\n",
    "for xy in zip(neighbors, np.round(MSE,3)):\n",
    "    plt.annotate('(%s, %s)' % xy, xy=xy, textcoords='data')\n",
    "\n",
    "plt.xlabel('Number of Neighbors K')\n",
    "plt.ylabel('Misclassification Error')\n",
    "plt.show()\n",
    "\n",
    "print(\"the misclassification error for each k value is : \", np.round(MSE,3))\n",
    "\n",
    "print (' 10-fold CV for k in range(1,50,2) done! Time elapsed: {} seconds'.format(time.time()-time_start))"
   ]
  },
  {
   "cell_type": "code",
   "execution_count": 32,
   "metadata": {},
   "outputs": [
    {
     "name": "stdout",
     "output_type": "stream",
     "text": [
      "\n",
      "The accuracy of the knn classifier for k = 31 is 81.273251%\n",
      " CV for optimal k on Test data done! Time elapsed: 25.94264245033264 seconds\n"
     ]
    }
   ],
   "source": [
    "# ============================== KNN with k = optimal_k ===============================================\n",
    "# instantiate learning model k = optimal_k\n",
    "time_start = time.time()\n",
    "\n",
    "knn_optimal = KNeighborsClassifier(n_neighbors=optimal_k, algorithm='brute', n_jobs = 6)\n",
    "\n",
    "# fitting the model\n",
    "knn_optimal.fit(X_train, y_train)\n",
    "\n",
    "# predict the response\n",
    "pred = knn_optimal.predict(X_test)\n",
    "\n",
    "# evaluate accuracy\n",
    "acc = accuracy_score(y_test, pred) * 100\n",
    "print('\\nThe accuracy of the knn classifier for k = %d is %f%%' % (optimal_k, acc))\n",
    "\n",
    "print (' CV for optimal k on Test data done! Time elapsed: {} seconds'.format(time.time()-time_start))"
   ]
  },
  {
   "cell_type": "markdown",
   "metadata": {
    "collapsed": true
   },
   "source": [
    "# 3. CV on TSNE data for TF-IDF"
   ]
  },
  {
   "cell_type": "code",
   "execution_count": 33,
   "metadata": {},
   "outputs": [
    {
     "name": "stdout",
     "output_type": "stream",
     "text": [
      "(33334, 2)\n",
      "[[ -6.09953507   6.72497237]\n",
      " [-33.4692973  -20.47437808]\n",
      " [ -1.84562687  -2.5333012 ]\n",
      " ...\n",
      " [ 17.30156288  -1.01735313]\n",
      " [ 38.11994295 -19.71465405]\n",
      " [ -3.47598292  -7.55473966]]\n"
     ]
    }
   ],
   "source": [
    "openPickleFile(\"X_train_tf_idf_tsne\")\n",
    "X_train = temp\n",
    "print(X_train.shape)\n",
    "print(X_train)"
   ]
  },
  {
   "cell_type": "code",
   "execution_count": 34,
   "metadata": {},
   "outputs": [
    {
     "name": "stdout",
     "output_type": "stream",
     "text": [
      "(16666, 2)\n",
      "[[ 22.74610807   7.44128863]\n",
      " [-43.82154621   1.21223035]\n",
      " [ -3.49087469   8.19165554]\n",
      " ...\n",
      " [ 15.0469712   28.40037018]\n",
      " [ 24.41162959 -36.63058084]\n",
      " [-13.13293783 -15.41747164]]\n"
     ]
    }
   ],
   "source": [
    "openPickleFile(\"X_test_tf_idf_tsne\")\n",
    "X_test = temp\n",
    "print(X_test.shape)\n",
    "print(X_test)"
   ]
  },
  {
   "cell_type": "code",
   "execution_count": 35,
   "metadata": {
    "scrolled": false
   },
   "outputs": [
    {
     "name": "stdout",
     "output_type": "stream",
     "text": [
      "\n",
      "CV accuracy for k = 1 is 78%\n",
      "\n",
      "CV accuracy for k = 3 is 82%\n",
      "\n",
      "CV accuracy for k = 5 is 83%\n",
      "\n",
      "CV accuracy for k = 7 is 84%\n",
      "\n",
      "CV accuracy for k = 9 is 85%\n",
      "\n",
      "CV accuracy for k = 11 is 85%\n",
      "\n",
      "CV accuracy for k = 13 is 85%\n",
      "\n",
      "CV accuracy for k = 15 is 85%\n",
      "\n",
      "CV accuracy for k = 17 is 85%\n",
      "\n",
      "CV accuracy for k = 19 is 85%\n",
      "\n",
      "CV accuracy for k = 21 is 85%\n",
      "\n",
      "CV accuracy for k = 23 is 85%\n",
      "\n",
      "CV accuracy for k = 25 is 85%\n",
      "\n",
      "CV accuracy for k = 27 is 85%\n",
      "\n",
      "CV accuracy for k = 29 is 85%\n",
      "\n",
      "****Test accuracy for k = 1 is 72%\n",
      "CV for k in range(1,30,2) done! Time elapsed: 168.44380474090576 seconds\n"
     ]
    }
   ],
   "source": [
    "# split the train data set into cross validation train and cross validation test\n",
    "time_start = time.time()\n",
    "\n",
    "X_tr, X_cv, y_tr, y_cv = cross_validation.train_test_split(X_train, y_train, test_size=0.3)\n",
    "\n",
    "for i in range(1,30,2):\n",
    "    # instantiate learning model (k = 30)\n",
    "    knn = KNeighborsClassifier(n_neighbors=i, algorithm='brute', n_jobs = 6)\n",
    "\n",
    "    # fitting the model on crossvalidation train\n",
    "    knn.fit(X_tr, y_tr)\n",
    "\n",
    "    # predict the response on the crossvalidation train\n",
    "    pred = knn.predict(X_cv)\n",
    "\n",
    "    # evaluate CV accuracy\n",
    "    acc = accuracy_score(y_cv, pred, normalize=True) * float(100)\n",
    "    print('\\nCV accuracy for k = %d is %d%%' % (i, acc))\n",
    "    \n",
    "knn = KNeighborsClassifier(1)\n",
    "knn.fit(X_tr,y_tr)\n",
    "pred = knn.predict(X_test)\n",
    "acc = accuracy_score(y_test, pred, normalize=True) * float(100)\n",
    "print('\\n****Test accuracy for k = 1 is %d%%' % (acc))\n",
    "\n",
    "print ('CV for k in range(1,30,2) done! Time elapsed: {} seconds'.format(time.time()-time_start))"
   ]
  },
  {
   "cell_type": "markdown",
   "metadata": {},
   "source": [
    "### 10 fold cross validation "
   ]
  },
  {
   "cell_type": "code",
   "execution_count": 36,
   "metadata": {},
   "outputs": [
    {
     "name": "stdout",
     "output_type": "stream",
     "text": [
      "\n",
      "The optimal number of neighbors is 23.\n"
     ]
    },
    {
     "data": {
      "image/png": "[encoded data removed]",
      "text/plain": [
       "<Figure size 432x288 with 1 Axes>"
      ]
     },
     "metadata": {
      "needs_background": "light"
     },
     "output_type": "display_data"
    },
    {
     "name": "stdout",
     "output_type": "stream",
     "text": [
      "the misclassification error for each k value is :  [0.212 0.174 0.162 0.155 0.151 0.15  0.148 0.147 0.147 0.147 0.146 0.146\n",
      " 0.146 0.146 0.147 0.147 0.147 0.147 0.147 0.147 0.147 0.147 0.147 0.147\n",
      " 0.147]\n",
      " 10-fold CV for k in range(1,50,2) done! Time elapsed: 1329.5150651931763 seconds\n"
     ]
    }
   ],
   "source": [
    "time_start = time.time()\n",
    "\n",
    "# creating odd list of K for KNN\n",
    "myList = list(range(0,50))\n",
    "neighbors = list(filter(lambda x: x % 2 != 0, myList))\n",
    "\n",
    "# empty list that will hold cv scores\n",
    "cv_scores = []\n",
    "\n",
    "# perform 10-fold cross validation\n",
    "for k in neighbors:\n",
    "    knn = KNeighborsClassifier(n_neighbors=k, algorithm='brute', n_jobs = 6)\n",
    "    scores = cross_val_score(knn, X_train, y_train, cv=10, scoring='accuracy')\n",
    "    cv_scores.append(scores.mean())\n",
    "\n",
    "# changing to misclassification error\n",
    "MSE = [1 - x for x in cv_scores]\n",
    "\n",
    "# determining best k\n",
    "optimal_k = neighbors[MSE.index(min(MSE))]\n",
    "print('\\nThe optimal number of neighbors is %d.' % optimal_k)\n",
    "\n",
    "# plot misclassification error vs k \n",
    "plt.plot(neighbors, MSE)\n",
    "\n",
    "for xy in zip(neighbors, np.round(MSE,3)):\n",
    "    plt.annotate('(%s, %s)' % xy, xy=xy, textcoords='data')\n",
    "\n",
    "plt.xlabel('Number of Neighbors K')\n",
    "plt.ylabel('Misclassification Error')\n",
    "plt.show()\n",
    "\n",
    "print(\"the misclassification error for each k value is : \", np.round(MSE,3))\n",
    "\n",
    "print (' 10-fold CV for k in range(1,50,2) done! Time elapsed: {} seconds'.format(time.time()-time_start))"
   ]
  },
  {
   "cell_type": "code",
   "execution_count": 37,
   "metadata": {},
   "outputs": [
    {
     "name": "stdout",
     "output_type": "stream",
     "text": [
      "\n",
      "The accuracy of the knn classifier for k = 23 is 81.141246%\n",
      " CV for optimal k on Test data done! Time elapsed: 25.459946870803833 seconds\n"
     ]
    }
   ],
   "source": [
    "# ============================== KNN with k = optimal_k ===============================================\n",
    "# instantiate learning model k = optimal_k\n",
    "time_start = time.time()\n",
    "\n",
    "knn_optimal = KNeighborsClassifier(n_neighbors=optimal_k, algorithm='brute', n_jobs = 6)\n",
    "\n",
    "# fitting the model\n",
    "knn_optimal.fit(X_train, y_train)\n",
    "\n",
    "# predict the response\n",
    "pred = knn_optimal.predict(X_test)\n",
    "\n",
    "# evaluate accuracy\n",
    "acc = accuracy_score(y_test, pred) * 100\n",
    "print('\\nThe accuracy of the knn classifier for k = %d is %f%%' % (optimal_k, acc))\n",
    "\n",
    "print (' CV for optimal k on Test data done! Time elapsed: {} seconds'.format(time.time()-time_start))"
   ]
  },
  {
   "cell_type": "markdown",
   "metadata": {
    "collapsed": true
   },
   "source": [
    "# 4. CV on TSNE data for Avg w2v"
   ]
  },
  {
   "cell_type": "code",
   "execution_count": 38,
   "metadata": {},
   "outputs": [
    {
     "name": "stdout",
     "output_type": "stream",
     "text": [
      "(33334, 2)\n",
      "[[ -5.18932776 -19.85113463]\n",
      " [-19.38656338 -19.90727633]\n",
      " [-20.17817352 -19.47306158]\n",
      " ...\n",
      " [ -0.39182819   4.35762239]\n",
      " [-21.10855306  -4.28585356]\n",
      " [-20.65119548  -3.79581033]]\n"
     ]
    }
   ],
   "source": [
    "openPickleFile(\"X_train_sent_vectors_tsne\")\n",
    "X_train = temp\n",
    "print(X_train.shape)\n",
    "print(X_train)"
   ]
  },
  {
   "cell_type": "code",
   "execution_count": 39,
   "metadata": {},
   "outputs": [
    {
     "name": "stdout",
     "output_type": "stream",
     "text": [
      "(16666, 2)\n",
      "[[-13.73571403 -40.59557589]\n",
      " [-13.35715831  -6.98219984]\n",
      " [ 18.66979195  10.00943354]\n",
      " ...\n",
      " [ 37.13265298   1.38713025]\n",
      " [ 12.27440414  -2.95131322]\n",
      " [ 25.76617651  34.75142092]]\n"
     ]
    }
   ],
   "source": [
    "openPickleFile(\"X_test_sent_vectors_tsne\")\n",
    "X_test = temp\n",
    "print(X_test.shape)\n",
    "print(X_test)"
   ]
  },
  {
   "cell_type": "code",
   "execution_count": 40,
   "metadata": {
    "scrolled": false
   },
   "outputs": [
    {
     "name": "stdout",
     "output_type": "stream",
     "text": [
      "\n",
      "CV accuracy for k = 1 is 81%\n",
      "\n",
      "CV accuracy for k = 3 is 84%\n",
      "\n",
      "CV accuracy for k = 5 is 85%\n",
      "\n",
      "CV accuracy for k = 7 is 85%\n",
      "\n",
      "CV accuracy for k = 9 is 85%\n",
      "\n",
      "CV accuracy for k = 11 is 85%\n",
      "\n",
      "CV accuracy for k = 13 is 86%\n",
      "\n",
      "CV accuracy for k = 15 is 86%\n",
      "\n",
      "CV accuracy for k = 17 is 86%\n",
      "\n",
      "CV accuracy for k = 19 is 85%\n",
      "\n",
      "CV accuracy for k = 21 is 85%\n",
      "\n",
      "CV accuracy for k = 23 is 85%\n",
      "\n",
      "CV accuracy for k = 25 is 85%\n",
      "\n",
      "CV accuracy for k = 27 is 86%\n",
      "\n",
      "CV accuracy for k = 29 is 86%\n",
      "\n",
      "****Test accuracy for k = 1 is 72%\n",
      "CV for k in range(1,30,2) done! Time elapsed: 164.55514669418335 seconds\n"
     ]
    }
   ],
   "source": [
    "# split the train data set into cross validation train and cross validation test\n",
    "time_start = time.time()\n",
    "\n",
    "X_tr, X_cv, y_tr, y_cv = cross_validation.train_test_split(X_train, y_train, test_size=0.3)\n",
    "\n",
    "for i in range(1,30,2):\n",
    "    # instantiate learning model (k = 30)\n",
    "    knn = KNeighborsClassifier(n_neighbors=i, algorithm='brute', n_jobs = 6)\n",
    "\n",
    "    # fitting the model on crossvalidation train\n",
    "    knn.fit(X_tr, y_tr)\n",
    "\n",
    "    # predict the response on the crossvalidation train\n",
    "    pred = knn.predict(X_cv)\n",
    "\n",
    "    # evaluate CV accuracy\n",
    "    acc = accuracy_score(y_cv, pred, normalize=True) * float(100)\n",
    "    print('\\nCV accuracy for k = %d is %d%%' % (i, acc))\n",
    "    \n",
    "knn = KNeighborsClassifier(1)\n",
    "knn.fit(X_tr,y_tr)\n",
    "pred = knn.predict(X_test)\n",
    "acc = accuracy_score(y_test, pred, normalize=True) * float(100)\n",
    "print('\\n****Test accuracy for k = 1 is %d%%' % (acc))\n",
    "\n",
    "print ('CV for k in range(1,30,2) done! Time elapsed: {} seconds'.format(time.time()-time_start))"
   ]
  },
  {
   "cell_type": "markdown",
   "metadata": {},
   "source": [
    "### 10 fold cross validation "
   ]
  },
  {
   "cell_type": "code",
   "execution_count": 41,
   "metadata": {},
   "outputs": [
    {
     "name": "stdout",
     "output_type": "stream",
     "text": [
      "\n",
      "The optimal number of neighbors is 29.\n"
     ]
    },
    {
     "data": {
      "image/png": "[encoded data removed]",
      "text/plain": [
       "<Figure size 432x288 with 1 Axes>"
      ]
     },
     "metadata": {
      "needs_background": "light"
     },
     "output_type": "display_data"
    },
    {
     "name": "stdout",
     "output_type": "stream",
     "text": [
      "the misclassification error for each k value is :  [0.187 0.155 0.144 0.142 0.14  0.138 0.138 0.137 0.137 0.137 0.137 0.137\n",
      " 0.137 0.137 0.137 0.137 0.138 0.137 0.137 0.138 0.137 0.137 0.137 0.137\n",
      " 0.137]\n",
      " 10-fold CV for k in range(1,50,2) done! Time elapsed: 1413.5281929969788 seconds\n"
     ]
    }
   ],
   "source": [
    "time_start = time.time()\n",
    "\n",
    "# creating odd list of K for KNN\n",
    "myList = list(range(0,50))\n",
    "neighbors = list(filter(lambda x: x % 2 != 0, myList))\n",
    "\n",
    "# empty list that will hold cv scores\n",
    "cv_scores = []\n",
    "\n",
    "# perform 10-fold cross validation\n",
    "for k in neighbors:\n",
    "    knn = KNeighborsClassifier(n_neighbors=k, algorithm='brute', n_jobs = 6)\n",
    "    scores = cross_val_score(knn, X_train, y_train, cv=10, scoring='accuracy')\n",
    "    cv_scores.append(scores.mean())\n",
    "\n",
    "# changing to misclassification error\n",
    "MSE = [1 - x for x in cv_scores]\n",
    "\n",
    "# determining best k\n",
    "optimal_k = neighbors[MSE.index(min(MSE))]\n",
    "print('\\nThe optimal number of neighbors is %d.' % optimal_k)\n",
    "\n",
    "# plot misclassification error vs k \n",
    "plt.plot(neighbors, MSE)\n",
    "\n",
    "for xy in zip(neighbors, np.round(MSE,3)):\n",
    "    plt.annotate('(%s, %s)' % xy, xy=xy, textcoords='data')\n",
    "\n",
    "plt.xlabel('Number of Neighbors K')\n",
    "plt.ylabel('Misclassification Error')\n",
    "plt.show()\n",
    "\n",
    "print(\"the misclassification error for each k value is : \", np.round(MSE,3))\n",
    "\n",
    "print (' 10-fold CV for k in range(1,50,2) done! Time elapsed: {} seconds'.format(time.time()-time_start))"
   ]
  },
  {
   "cell_type": "code",
   "execution_count": 42,
   "metadata": {},
   "outputs": [
    {
     "name": "stdout",
     "output_type": "stream",
     "text": [
      "\n",
      "The accuracy of the knn classifier for k = 29 is 80.031201%\n",
      " CV for optimal k on Test data done! Time elapsed: 28.255224227905273 seconds\n"
     ]
    }
   ],
   "source": [
    "# ============================== KNN with k = optimal_k ===============================================\n",
    "# instantiate learning model k = optimal_k\n",
    "time_start = time.time()\n",
    "\n",
    "knn_optimal = KNeighborsClassifier(n_neighbors=optimal_k, algorithm='brute', n_jobs = 6)\n",
    "\n",
    "# fitting the model\n",
    "knn_optimal.fit(X_train, y_train)\n",
    "\n",
    "# predict the response\n",
    "pred = knn_optimal.predict(X_test)\n",
    "\n",
    "# evaluate accuracy\n",
    "acc = accuracy_score(y_test, pred) * 100\n",
    "print('\\nThe accuracy of the knn classifier for k = %d is %f%%' % (optimal_k, acc))\n",
    "\n",
    "print (' CV for optimal k on Test data done! Time elapsed: {} seconds'.format(time.time()-time_start))"
   ]
  },
  {
   "cell_type": "markdown",
   "metadata": {
    "collapsed": true
   },
   "source": [
    "# 5. CV on TSNE data for TF-IDF Avg W2V"
   ]
  },
  {
   "cell_type": "code",
   "execution_count": 43,
   "metadata": {},
   "outputs": [
    {
     "name": "stdout",
     "output_type": "stream",
     "text": [
      "(33334, 2)\n",
      "[[ 51.00725692  29.94390113]\n",
      " [-15.98265073 -10.0386827 ]\n",
      " [-16.32168028  -9.79519485]\n",
      " ...\n",
      " [-27.39748169   0.14538634]\n",
      " [-12.5409894   26.0431301 ]\n",
      " [-15.2099629   23.31137254]]\n"
     ]
    }
   ],
   "source": [
    "openPickleFile(\"X_train_tfidf_sent_vectors_TSNE\")\n",
    "X_train = temp\n",
    "print(X_train.shape)\n",
    "print(X_train)"
   ]
  },
  {
   "cell_type": "code",
   "execution_count": 44,
   "metadata": {},
   "outputs": [
    {
     "name": "stdout",
     "output_type": "stream",
     "text": [
      "(16666, 2)\n",
      "[[-16.72650871 -39.30089726]\n",
      " [ 32.90438352   2.5288741 ]\n",
      " [ 13.51396017   3.30621746]\n",
      " ...\n",
      " [ 40.99771103   2.33425794]\n",
      " [ 19.12431187  17.84766515]\n",
      " [ 18.75914353  24.28219935]]\n"
     ]
    }
   ],
   "source": [
    "openPickleFile(\"X_test_tfidf_sent_vectors_TSNE\")\n",
    "X_test = temp\n",
    "print(X_test.shape)\n",
    "print(X_test)"
   ]
  },
  {
   "cell_type": "code",
   "execution_count": 45,
   "metadata": {
    "scrolled": false
   },
   "outputs": [
    {
     "name": "stdout",
     "output_type": "stream",
     "text": [
      "\n",
      "CV accuracy for k = 1 is 79%\n",
      "\n",
      "CV accuracy for k = 3 is 83%\n",
      "\n",
      "CV accuracy for k = 5 is 84%\n",
      "\n",
      "CV accuracy for k = 7 is 85%\n",
      "\n",
      "CV accuracy for k = 9 is 85%\n",
      "\n",
      "CV accuracy for k = 11 is 85%\n",
      "\n",
      "CV accuracy for k = 13 is 85%\n",
      "\n",
      "CV accuracy for k = 15 is 85%\n",
      "\n",
      "CV accuracy for k = 17 is 85%\n",
      "\n",
      "CV accuracy for k = 19 is 85%\n",
      "\n",
      "CV accuracy for k = 21 is 85%\n",
      "\n",
      "CV accuracy for k = 23 is 85%\n",
      "\n",
      "CV accuracy for k = 25 is 85%\n",
      "\n",
      "CV accuracy for k = 27 is 85%\n",
      "\n",
      "CV accuracy for k = 29 is 85%\n",
      "\n",
      "****Test accuracy for k = 1 is 73%\n",
      "CV for k in range(1,30,2) done! Time elapsed: 183.7907087802887 seconds\n"
     ]
    }
   ],
   "source": [
    "# split the train data set into cross validation train and cross validation test\n",
    "time_start = time.time()\n",
    "\n",
    "X_tr, X_cv, y_tr, y_cv = cross_validation.train_test_split(X_train, y_train, test_size=0.3)\n",
    "\n",
    "for i in range(1,30,2):\n",
    "    # instantiate learning model (k = 30)\n",
    "    knn = KNeighborsClassifier(n_neighbors=i, algorithm='brute', n_jobs = 6)\n",
    "\n",
    "    # fitting the model on crossvalidation train\n",
    "    knn.fit(X_tr, y_tr)\n",
    "\n",
    "    # predict the response on the crossvalidation train\n",
    "    pred = knn.predict(X_cv)\n",
    "\n",
    "    # evaluate CV accuracy\n",
    "    acc = accuracy_score(y_cv, pred, normalize=True) * float(100)\n",
    "    print('\\nCV accuracy for k = %d is %d%%' % (i, acc))\n",
    "    \n",
    "knn = KNeighborsClassifier(1)\n",
    "knn.fit(X_tr,y_tr)\n",
    "pred = knn.predict(X_test)\n",
    "acc = accuracy_score(y_test, pred, normalize=True) * float(100)\n",
    "print('\\n****Test accuracy for k = 1 is %d%%' % (acc))\n",
    "\n",
    "print ('CV for k in range(1,30,2) done! Time elapsed: {} seconds'.format(time.time()-time_start))"
   ]
  },
  {
   "cell_type": "markdown",
   "metadata": {},
   "source": [
    "### 10 fold cross validation "
   ]
  },
  {
   "cell_type": "code",
   "execution_count": 46,
   "metadata": {},
   "outputs": [
    {
     "name": "stdout",
     "output_type": "stream",
     "text": [
      "\n",
      "The optimal number of neighbors is 21.\n"
     ]
    },
    {
     "data": {
      "image/png": "[encoded data removed]",
      "text/plain": [
       "<Figure size 432x288 with 1 Axes>"
      ]
     },
     "metadata": {
      "needs_background": "light"
     },
     "output_type": "display_data"
    },
    {
     "name": "stdout",
     "output_type": "stream",
     "text": [
      "the misclassification error for each k value is :  [0.199 0.167 0.154 0.15  0.147 0.146 0.143 0.142 0.142 0.141 0.14  0.141\n",
      " 0.14  0.14  0.141 0.14  0.14  0.141 0.141 0.141 0.141 0.141 0.141 0.141\n",
      " 0.141]\n",
      " 10-fold CV for k in range(1,50,2) done! Time elapsed: 1411.78635597229 seconds\n"
     ]
    }
   ],
   "source": [
    "time_start = time.time()\n",
    "\n",
    "# creating odd list of K for KNN\n",
    "myList = list(range(0,50))\n",
    "neighbors = list(filter(lambda x: x % 2 != 0, myList))\n",
    "\n",
    "# empty list that will hold cv scores\n",
    "cv_scores = []\n",
    "\n",
    "# perform 10-fold cross validation\n",
    "for k in neighbors:\n",
    "    knn = KNeighborsClassifier(n_neighbors=k, algorithm='brute', n_jobs = 6)\n",
    "    scores = cross_val_score(knn, X_train, y_train, cv=10, scoring='accuracy')\n",
    "    cv_scores.append(scores.mean())\n",
    "\n",
    "# changing to misclassification error\n",
    "MSE = [1 - x for x in cv_scores]\n",
    "\n",
    "# determining best k\n",
    "optimal_k = neighbors[MSE.index(min(MSE))]\n",
    "print('\\nThe optimal number of neighbors is %d.' % optimal_k)\n",
    "\n",
    "# plot misclassification error vs k \n",
    "plt.plot(neighbors, MSE)\n",
    "\n",
    "for xy in zip(neighbors, np.round(MSE,3)):\n",
    "    plt.annotate('(%s, %s)' % xy, xy=xy, textcoords='data')\n",
    "\n",
    "plt.xlabel('Number of Neighbors K')\n",
    "plt.ylabel('Misclassification Error')\n",
    "plt.show()\n",
    "\n",
    "print(\"the misclassification error for each k value is : \", np.round(MSE,3))\n",
    "\n",
    "print (' 10-fold CV for k in range(1,50,2) done! Time elapsed: {} seconds'.format(time.time()-time_start))"
   ]
  },
  {
   "cell_type": "code",
   "execution_count": 47,
   "metadata": {},
   "outputs": [
    {
     "name": "stdout",
     "output_type": "stream",
     "text": [
      "\n",
      "The accuracy of the knn classifier for k = 21 is 79.989200%\n",
      " CV for optimal k on Test data done! Time elapsed: 27.705902814865112 seconds\n"
     ]
    }
   ],
   "source": [
    "# ============================== KNN with k = optimal_k ===============================================\n",
    "# instantiate learning model k = optimal_k\n",
    "time_start = time.time()\n",
    "\n",
    "knn_optimal = KNeighborsClassifier(n_neighbors=optimal_k, algorithm='brute', n_jobs = 6)\n",
    "\n",
    "# fitting the model\n",
    "knn_optimal.fit(X_train, y_train)\n",
    "\n",
    "# predict the response\n",
    "pred = knn_optimal.predict(X_test)\n",
    "\n",
    "# evaluate accuracy\n",
    "acc = accuracy_score(y_test, pred) * 100\n",
    "print('\\nThe accuracy of the knn classifier for k = %d is %f%%' % (optimal_k, acc))\n",
    "\n",
    "print (' CV for optimal k on Test data done! Time elapsed: {} seconds'.format(time.time()-time_start))"
   ]
  },
  {
   "cell_type": "code",
   "execution_count": null,
   "metadata": {},
   "outputs": [],
   "source": []
  }
 ],
 "metadata": {
  "kernelspec": {
   "display_name": "Python 3",
   "language": "python",
   "name": "python3"
  },
  "language_info": {
   "codemirror_mode": {
    "name": "ipython",
    "version": 3
   },
   "file_extension": ".py",
   "mimetype": "text/x-python",
   "name": "python",
   "nbconvert_exporter": "python",
   "pygments_lexer": "ipython3",
   "version": "3.6.6"
  }
 },
 "nbformat": 4,
 "nbformat_minor": 2
}
