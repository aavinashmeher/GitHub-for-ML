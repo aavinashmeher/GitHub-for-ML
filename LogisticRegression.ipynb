{
 "cells": [
  {
   "cell_type": "code",
   "execution_count": 1,
   "metadata": {
    "scrolled": true
   },
   "outputs": [
    {
     "name": "stderr",
     "output_type": "stream",
     "text": [
      "C:\\Users\\avinash\\Anaconda3\\lib\\site-packages\\sklearn\\cross_validation.py:41: DeprecationWarning: This module was deprecated in version 0.18 in favor of the model_selection module into which all the refactored classes and functions are moved. Also note that the interface of the new CV iterators are different from that of this module. This module will be removed in 0.20.\n",
      "  \"This module will be removed in 0.20.\", DeprecationWarning)\n"
     ]
    }
   ],
   "source": [
    "#code source: http://occam.olin.edu/sites/default/files/DataScienceMaterials/machine_learning_lecture_2/\n",
    "#Machine%20Learning%20Lecture%202.html\n",
    "from sklearn.model_selection import train_test_split\n",
    "#from sklearn.grid_search import GridSearchCV\n",
    "from sklearn.model_selection import GridSearchCV\n",
    "from sklearn.model_selection import RandomizedSearchCV\n",
    "from sklearn.datasets import *\n",
    "from sklearn.linear_model import LogisticRegression\n",
    "\n",
    "import numpy as np\n",
    "import pandas as pd\n",
    "import matplotlib.pyplot as plt\n",
    "from sklearn.cross_validation import train_test_split\n",
    "from sklearn.metrics import accuracy_score\n",
    "from sklearn.cross_validation import cross_val_score\n",
    "from collections import Counter\n",
    "from sklearn.metrics import accuracy_score\n",
    "from sklearn import cross_validation\n",
    "\n",
    "from sklearn.feature_extraction.text import TfidfTransformer\n",
    "from sklearn.feature_extraction.text import TfidfVectorizer\n",
    "\n",
    "from sklearn.feature_extraction.text import CountVectorizer\n",
    "from sklearn.metrics import confusion_matrix\n",
    "\n",
    "from sklearn.preprocessing import MinMaxScaler\n",
    "from sklearn.decomposition import TruncatedSVD\n",
    "from sklearn.preprocessing import StandardScaler\n",
    "from sklearn.preprocessing import MaxAbsScaler\n",
    "\n",
    "from sklearn import datasets, neighbors\n",
    "from sklearn.model_selection import TimeSeriesSplit\n",
    "import pickle\n",
    "import scipy\n",
    "import time\n",
    "\n",
    "from tqdm import tqdm\n",
    "\n",
    "import warnings\n",
    "warnings.filterwarnings(\"ignore\")"
   ]
  },
  {
   "cell_type": "code",
   "execution_count": 2,
   "metadata": {},
   "outputs": [],
   "source": [
    "#Function to pickle in an object:\n",
    "def openPickleFile(name): #name = the pickle file name, this should be passed as a string inside \" \".\n",
    "    global temp\n",
    "    temp = pickle.load(open(name + \".pickle\",\"rb\"))\n",
    "    return temp\n",
    "\n",
    "#Function to pickle out an object.\n",
    "def savePickleFile(obj,name):\n",
    "    pickle.dump(obj, open(name + \".pickle\",\"wb\"))"
   ]
  },
  {
   "cell_type": "code",
   "execution_count": 3,
   "metadata": {},
   "outputs": [
    {
     "name": "stdout",
     "output_type": "stream",
     "text": [
      "(80000,)\n",
      "int64\n"
     ]
    }
   ],
   "source": [
    "openPickleFile(\"y_train\")\n",
    "y_train = temp\n",
    "print(y_train.shape)\n",
    "print(y_train.dtype)"
   ]
  },
  {
   "cell_type": "code",
   "execution_count": 4,
   "metadata": {},
   "outputs": [
    {
     "name": "stdout",
     "output_type": "stream",
     "text": [
      "(20000,)\n",
      "int64\n"
     ]
    }
   ],
   "source": [
    "openPickleFile(\"y_test\")\n",
    "y_test = temp\n",
    "print(y_test.shape)\n",
    "print(y_test.dtype)\n"
   ]
  },
  {
   "cell_type": "code",
   "execution_count": 5,
   "metadata": {},
   "outputs": [
    {
     "data": {
      "text/plain": [
       "array([[    0, 11757],\n",
       "       [    1, 68243]], dtype=int64)"
      ]
     },
     "execution_count": 5,
     "metadata": {},
     "output_type": "execute_result"
    }
   ],
   "source": [
    "#Function to count no. of unique values in variable of any datatype.\n",
    "def unique_count(a):\n",
    "    unique, inverse = np.unique(a, return_inverse=True)\n",
    "    count = np.zeros(len(unique), np.int)\n",
    "    np.add.at(count, inverse, 1)\n",
    "    return np.vstack(( unique, count)).T\n",
    "# 1. CV on Standardized data for Unigrams\n",
    "unique_count(y_train)"
   ]
  },
  {
   "cell_type": "markdown",
   "metadata": {
    "collapsed": true
   },
   "source": [
    "# 1. CV on Standardized data for Bigrams"
   ]
  },
  {
   "cell_type": "code",
   "execution_count": 6,
   "metadata": {
    "scrolled": true
   },
   "outputs": [
    {
     "name": "stdout",
     "output_type": "stream",
     "text": [
      "(80000,)\n",
      "object\n"
     ]
    }
   ],
   "source": [
    "openPickleFile(\"X_train\")\n",
    "X_train = temp\n",
    "print(X_train.shape)\n",
    "print(X_train.dtype)"
   ]
  },
  {
   "cell_type": "code",
   "execution_count": 7,
   "metadata": {
    "scrolled": false
   },
   "outputs": [
    {
     "name": "stdout",
     "output_type": "stream",
     "text": [
      "(20000,)\n",
      "object\n"
     ]
    }
   ],
   "source": [
    "openPickleFile(\"X_test\")\n",
    "X_test = temp\n",
    "print(X_test.shape)\n",
    "print(X_test.dtype)"
   ]
  },
  {
   "cell_type": "markdown",
   "metadata": {},
   "source": [
    "**Vectorization of X_train**"
   ]
  },
  {
   "cell_type": "code",
   "execution_count": 8,
   "metadata": {
    "scrolled": true
   },
   "outputs": [
    {
     "name": "stdout",
     "output_type": "stream",
     "text": [
      "the type of count vectorizer  <class 'scipy.sparse.csr.csr_matrix'>\n",
      "the shape of out text BOW vectorizer  (80000, 1035586)\n",
      "the number of unique words including both unigrams and bigrams  1035586\n"
     ]
    }
   ],
   "source": [
    "count_vect = CountVectorizer(ngram_range=(1,2) ) #in scikit-learn\n",
    "fit = count_vect.fit(X_train) #1st fitting X_train for BoW bigrams.\n",
    "final_bigram_counts_train = fit.transform(X_train) # Then transforming X_train using the calculated fit.\n",
    "print(\"the type of count vectorizer \",type(final_bigram_counts_train))\n",
    "print(\"the shape of out text BOW vectorizer \",final_bigram_counts_train.get_shape())\n",
    "print(\"the number of unique words including both unigrams and bigrams \", final_bigram_counts_train.get_shape()[1])"
   ]
  },
  {
   "cell_type": "code",
   "execution_count": 9,
   "metadata": {},
   "outputs": [
    {
     "data": {
      "text/plain": [
       "<80000x1035586 sparse matrix of type '<class 'numpy.float64'>'\n",
       "\twith 5203377 stored elements in Compressed Sparse Row format>"
      ]
     },
     "execution_count": 9,
     "metadata": {},
     "output_type": "execute_result"
    }
   ],
   "source": [
    "standardized_bigrams_train = MaxAbsScaler().fit_transform(final_bigram_counts_train)\n",
    "standardized_bigrams_train"
   ]
  },
  {
   "cell_type": "code",
   "execution_count": 10,
   "metadata": {},
   "outputs": [],
   "source": [
    "#saving unigram sparse matrix.\n",
    "savePickleFile(standardized_bigrams_train, \"X_train_bigram_sparse\")"
   ]
  },
  {
   "cell_type": "markdown",
   "metadata": {},
   "source": [
    "**Transformation of X_test**"
   ]
  },
  {
   "cell_type": "code",
   "execution_count": 11,
   "metadata": {},
   "outputs": [
    {
     "name": "stdout",
     "output_type": "stream",
     "text": [
      "the type of count vectorizer  <class 'scipy.sparse.csr.csr_matrix'>\n",
      "the shape of out text BOW vectorizer  (20000, 1035586)\n",
      "the number of unique words  1035586\n"
     ]
    }
   ],
   "source": [
    "#BoW for X_test\n",
    "final_bigram_counts_test = fit.transform(X_test) # Then transforming X_train using the calculated fit.\n",
    "print(\"the type of count vectorizer \",type(final_bigram_counts_test))\n",
    "print(\"the shape of out text BOW vectorizer \",final_bigram_counts_test.get_shape())\n",
    "print(\"the number of unique words \", final_bigram_counts_test.get_shape()[1])"
   ]
  },
  {
   "cell_type": "code",
   "execution_count": 12,
   "metadata": {},
   "outputs": [
    {
     "data": {
      "text/plain": [
       "<20000x1035586 sparse matrix of type '<class 'numpy.float64'>'\n",
       "\twith 1155232 stored elements in Compressed Sparse Row format>"
      ]
     },
     "execution_count": 12,
     "metadata": {},
     "output_type": "execute_result"
    }
   ],
   "source": [
    "standardized_bigrams_test = MaxAbsScaler().fit_transform(final_bigram_counts_test)\n",
    "standardized_bigrams_test"
   ]
  },
  {
   "cell_type": "code",
   "execution_count": 13,
   "metadata": {},
   "outputs": [],
   "source": [
    "#saving unigram sparse matrix.\n",
    "savePickleFile(standardized_bigrams_test, \"X_test_bigram_sparse\")"
   ]
  },
  {
   "cell_type": "code",
   "execution_count": 14,
   "metadata": {
    "scrolled": true
   },
   "outputs": [
    {
     "name": "stdout",
     "output_type": "stream",
     "text": [
      "(80000, 1035586)\n",
      "float64\n"
     ]
    }
   ],
   "source": [
    "openPickleFile(\"X_train_bigram_sparse\")\n",
    "X_train = temp\n",
    "print(X_train.shape)\n",
    "print(X_train.dtype)"
   ]
  },
  {
   "cell_type": "code",
   "execution_count": 15,
   "metadata": {},
   "outputs": [
    {
     "name": "stdout",
     "output_type": "stream",
     "text": [
      "(20000, 1035586)\n",
      "float64\n"
     ]
    }
   ],
   "source": [
    "openPickleFile(\"X_test_bigram_sparse\")\n",
    "X_test = temp\n",
    "print(X_test.shape)\n",
    "print(X_test.dtype)"
   ]
  },
  {
   "cell_type": "code",
   "execution_count": 16,
   "metadata": {},
   "outputs": [],
   "source": [
    "# Utility function to report best scores\n",
    "def report(results, n_top=3):\n",
    "    for i in range(1, n_top + 1):\n",
    "        candidates = np.flatnonzero(results['rank_test_score'] == i)\n",
    "        for candidate in candidates:\n",
    "            print(\"Model with rank: {0}\".format(i))\n",
    "            print(\"Mean validation score: {0:.3f} (std: {1:.3f})\".format(\n",
    "                  results['mean_test_score'][candidate],\n",
    "                  results['std_test_score'][candidate]))\n",
    "            print(\"Parameters: {0}\".format(results['params'][candidate]))\n",
    "            print(\"\")"
   ]
  },
  {
   "cell_type": "code",
   "execution_count": 17,
   "metadata": {
    "scrolled": true
   },
   "outputs": [
    {
     "name": "stdout",
     "output_type": "stream",
     "text": [
      "LogisticRegression(C=10000, class_weight=None, dual=False, fit_intercept=True,\n",
      "          intercept_scaling=1, max_iter=100, multi_class='ovr', n_jobs=1,\n",
      "          penalty='l2', random_state=None, solver='liblinear', tol=0.0001,\n",
      "          verbose=0, warm_start=False)\n",
      "0.9469005140610824\n",
      "CV for Bigrams in range(10e-2, 10e+6) done! Time elapsed: 112.00497674942017 seconds\n"
     ]
    }
   ],
   "source": [
    "time_start = time.time()\n",
    "\n",
    "tuned_parameters = [{'C': [10**i for i in range(-2,6,2)]}]\n",
    "\n",
    "#Using GridSearchCV\n",
    "model = GridSearchCV(LogisticRegression(), tuned_parameters, scoring = 'f1', cv=5, n_jobs=6)\n",
    "model.fit(X_train, y_train)\n",
    "\n",
    "print(model.best_estimator_)\n",
    "print(model.score(X_test, y_test))\n",
    "\n",
    "print ('CV for Bigrams in range(10e-2, 10e+6) done! Time elapsed: {} seconds'.format(time.time()-time_start))"
   ]
  },
  {
   "cell_type": "code",
   "execution_count": 18,
   "metadata": {
    "scrolled": true
   },
   "outputs": [
    {
     "name": "stdout",
     "output_type": "stream",
     "text": [
      "Model with rank: 1\n",
      "Mean validation score: 0.954 (std: 0.001)\n",
      "Parameters: {'C': 10000}\n",
      "\n",
      "Model with rank: 2\n",
      "Mean validation score: 0.954 (std: 0.002)\n",
      "Parameters: {'C': 100}\n",
      "\n",
      "Model with rank: 3\n",
      "Mean validation score: 0.952 (std: 0.002)\n",
      "Parameters: {'C': 1}\n",
      "\n"
     ]
    }
   ],
   "source": [
    "report(model.cv_results_)"
   ]
  },
  {
   "cell_type": "markdown",
   "metadata": {},
   "source": [
    "**RandomizedSearchCV**"
   ]
  },
  {
   "cell_type": "code",
   "execution_count": 19,
   "metadata": {},
   "outputs": [],
   "source": [
    "y_train =y_train.astype(float)"
   ]
  },
  {
   "cell_type": "code",
   "execution_count": 20,
   "metadata": {},
   "outputs": [
    {
     "data": {
      "text/plain": [
       "dtype('float64')"
      ]
     },
     "execution_count": 20,
     "metadata": {},
     "output_type": "execute_result"
    }
   ],
   "source": [
    "y_train.dtype"
   ]
  },
  {
   "cell_type": "code",
   "execution_count": 21,
   "metadata": {
    "scrolled": true
   },
   "outputs": [
    {
     "name": "stdout",
     "output_type": "stream",
     "text": [
      "LogisticRegression(C=100, class_weight=None, dual=False, fit_intercept=True,\n",
      "          intercept_scaling=1, max_iter=100, multi_class='ovr', n_jobs=1,\n",
      "          penalty='l2', random_state=None, solver='liblinear', tol=0.0001,\n",
      "          verbose=0, warm_start=False)\n",
      "0.9465284284980202\n",
      "CV for Bigrams in range(10e-4, 10e+4) done! Time elapsed: 86.25825500488281 seconds\n"
     ]
    }
   ],
   "source": [
    "time_start = time.time()\n",
    "\n",
    "tuned_parameters = {'C': [10**i for i in range(-4,4,1)]} #params should be passed as a dict not as list of dict.\n",
    "\n",
    "#Using RandomizedSearchCV\n",
    "model =  RandomizedSearchCV(LogisticRegression(), tuned_parameters, scoring = 'f1', cv=5, n_jobs=6, random_state = 12, n_iter=5)\n",
    "model.fit(X_train, y_train)\n",
    "\n",
    "print(model.best_estimator_)\n",
    "print(model.score(X_test, y_test))\n",
    "\n",
    "print ('CV for Bigrams in range(10e-4, 10e+4) done! Time elapsed: {} seconds'.format(time.time()-time_start))"
   ]
  },
  {
   "cell_type": "code",
   "execution_count": 22,
   "metadata": {
    "scrolled": false
   },
   "outputs": [
    {
     "name": "stdout",
     "output_type": "stream",
     "text": [
      "Model with rank: 1\n",
      "Mean validation score: 0.954 (std: 0.002)\n",
      "Parameters: {'C': 100}\n",
      "\n",
      "Model with rank: 2\n",
      "Mean validation score: 0.952 (std: 0.002)\n",
      "Parameters: {'C': 1}\n",
      "\n",
      "Model with rank: 3\n",
      "Mean validation score: 0.924 (std: 0.001)\n",
      "Parameters: {'C': 0.01}\n",
      "\n"
     ]
    }
   ],
   "source": [
    "report(model.cv_results_)"
   ]
  },
  {
   "cell_type": "code",
   "execution_count": 23,
   "metadata": {
    "scrolled": true
   },
   "outputs": [
    {
     "name": "stdout",
     "output_type": "stream",
     "text": [
      "\n",
      "The CV F1 score of the Logistic Regression is 95.428368%\n",
      "\n",
      "The Test F1 score of the Logistic Regression for C = 100.000000 is 94.652843%\n"
     ]
    }
   ],
   "source": [
    "# ============================== Logistic Regression with C = optimal_C ===============================================\n",
    "#optimal_cv_result = sorted(model.cv_results_['mean_test_score'], reverse=True)\n",
    "optimal_cv_result = max(model.cv_results_['mean_test_score'])\n",
    "acc = optimal_cv_result * float(100)\n",
    "print('\\nThe CV F1 score of the Logistic Regression is %f%%' % (acc))\n",
    "\n",
    "# evaluate accuracy\n",
    "acc = model.score(X_test, y_test) * 100\n",
    "print('\\nThe Test F1 score of the Logistic Regression for C = %f is %f%%' % (model.best_params_['C'], acc))"
   ]
  },
  {
   "cell_type": "markdown",
   "metadata": {},
   "source": [
    "**Precision, Recall and F1 score report**"
   ]
  },
  {
   "cell_type": "code",
   "execution_count": 24,
   "metadata": {},
   "outputs": [
    {
     "name": "stdout",
     "output_type": "stream",
     "text": [
      "             precision    recall  f1-score   support\n",
      "\n",
      "    class 0       0.87      0.65      0.74      3943\n",
      "    class 1       0.92      0.98      0.95     16057\n",
      "\n",
      "avg / total       0.91      0.91      0.91     20000\n",
      "\n"
     ]
    }
   ],
   "source": [
    "pred = model.predict(X_test)\n",
    "\n",
    "from sklearn.metrics import classification_report\n",
    "\n",
    "target_names = ['class 0', 'class 1']\n",
    "print(classification_report(y_test, pred, target_names=target_names))"
   ]
  },
  {
   "cell_type": "markdown",
   "metadata": {},
   "source": [
    "**Confusion matrix**"
   ]
  },
  {
   "cell_type": "code",
   "execution_count": 25,
   "metadata": {
    "scrolled": true
   },
   "outputs": [
    {
     "data": {
      "text/plain": [
       "<matplotlib.axes._subplots.AxesSubplot at 0x21921056358>"
      ]
     },
     "execution_count": 25,
     "metadata": {},
     "output_type": "execute_result"
    },
    {
     "data": {
      "image/png": "[encoded data removed]",
      "text/plain": [
       "<Figure size 432x288 with 2 Axes>"
      ]
     },
     "metadata": {},
     "output_type": "display_data"
    }
   ],
   "source": [
    "import seaborn as sns; sns.set()\n",
    "cnf_matrix = confusion_matrix(y_test, pred)\n",
    "\n",
    "df_cm = pd.DataFrame(cnf_matrix)\n",
    "\n",
    "#sns.set(font_scale=1.4)#for label size\n",
    "sns.heatmap(df_cm, annot=True,annot_kws={\"size\": 15},cmap=\"YlGnBu\")# font size and colors selection."
   ]
  },
  {
   "cell_type": "markdown",
   "metadata": {},
   "source": [
    "**ROC AUC curve**"
   ]
  },
  {
   "cell_type": "code",
   "execution_count": 26,
   "metadata": {},
   "outputs": [
    {
     "data": {
      "image/png": "[encoded data removed]",
      "text/plain": [
       "<Figure size 432x288 with 1 Axes>"
      ]
     },
     "metadata": {},
     "output_type": "display_data"
    }
   ],
   "source": [
    "import scikitplot as skplt\n",
    "\n",
    "LR_optimal = LogisticRegression(C=model.best_params_['C'], penalty='l1').fit(X_train, y_train)\n",
    "\n",
    "predicted_probas = LR_optimal.predict_proba(X_test)\n",
    "\n",
    "skplt.metrics.plot_roc(y_test, predicted_probas, plot_micro=False, plot_macro=False)\n",
    "plt.show()"
   ]
  },
  {
   "cell_type": "markdown",
   "metadata": {
    "collapsed": true
   },
   "source": [
    "## 1.1. Feature importance for both positive and negative features."
   ]
  },
  {
   "cell_type": "markdown",
   "metadata": {},
   "source": [
    "### Top 25 Bigrams."
   ]
  },
  {
   "cell_type": "code",
   "execution_count": 27,
   "metadata": {},
   "outputs": [],
   "source": [
    "def show_most_informative_features(vectorizer, clf, n=20):\n",
    "    feature_names = vectorizer.get_feature_names()\n",
    "    coefs_with_fns = sorted(zip(clf.coef_[0], feature_names))\n",
    "    top = zip(coefs_with_fns[:n], coefs_with_fns[:-(n + 1):-1])\n",
    "    print (\"\\tTop {} Negative features\\tTop {} Positive features\".format(n, n))\n",
    "    print (\"\\t------------------------\\t------------------------\")\n",
    "    for (coef_1, fn_1), (coef_2, fn_2) in top:\n",
    "        print (\"\\t%.4f\\t%-15s\\t\\t%.4f\\t%-15s\" % (coef_1, fn_1, coef_2, fn_2))"
   ]
  },
  {
   "cell_type": "code",
   "execution_count": 28,
   "metadata": {
    "scrolled": false
   },
   "outputs": [
    {
     "name": "stdout",
     "output_type": "stream",
     "text": [
      "\tTop 25 Negative features\tTop 25 Positive features\n",
      "\t------------------------\t------------------------\n",
      "\t-21.8879\tworst          \t\t38.2759\tbest           \n",
      "\t-21.7731\ttwo star       \t\t33.3255\tawesom         \n",
      "\t-20.9609\treturn         \t\t32.3100\tlove           \n",
      "\t-20.2468\tdisappoint     \t\t30.3397\tgreat          \n",
      "\t-20.0359\thorribl        \t\t29.4717\tdelici         \n",
      "\t-19.6591\tdisgust        \t\t26.9093\tperfect        \n",
      "\t-16.7616\tvomit          \t\t25.2024\thelp           \n",
      "\t-16.7111\tnever buy      \t\t22.9027\tamaz           \n",
      "\t-16.5704\tterribl        \t\t22.2272\tgood           \n",
      "\t-16.1352\tmislead        \t\t20.3645\texcel          \n",
      "\t-16.1167\taw             \t\t18.5897\taddict         \n",
      "\t-15.5982\tstale          \t\t18.3384\tskeptic        \n",
      "\t-14.7409\tprobabl fresh  \t\t17.0064\tnice           \n",
      "\t-14.4824\tmoldi          \t\t15.8115\tyum            \n",
      "\t-14.4821\tschar          \t\t15.5541\thigh recommend \n",
      "\t-14.3961\tbland          \t\t15.5384\tenergi         \n",
      "\t-13.8611\tmayb           \t\t15.5353\tuniqu          \n",
      "\t-13.5539\tchew rope      \t\t15.0374\tyummi          \n",
      "\t-13.4757\tsend back      \t\t14.6476\thook           \n",
      "\t-13.4587\tvinegar much   \t\t14.4274\tfast           \n",
      "\t-13.4469\twont order     \t\t14.3098\tkeep           \n",
      "\t-13.2540\tearth          \t\t13.4346\tbeat           \n",
      "\t-13.1921\tsearch continu \t\t12.7651\twonder         \n",
      "\t-13.1176\ttasteless      \t\t12.5969\thit            \n",
      "\t-12.8410\twould fantast  \t\t12.5533\tget stale      \n"
     ]
    }
   ],
   "source": [
    "show_most_informative_features(count_vect, LR_optimal, n=25)"
   ]
  },
  {
   "cell_type": "markdown",
   "metadata": {
    "collapsed": true
   },
   "source": [
    "# 2. CV on Standardized data for TFIDF"
   ]
  },
  {
   "cell_type": "code",
   "execution_count": 29,
   "metadata": {
    "scrolled": true
   },
   "outputs": [
    {
     "name": "stdout",
     "output_type": "stream",
     "text": [
      "(80000,)\n",
      "object\n"
     ]
    }
   ],
   "source": [
    "openPickleFile(\"X_train\")\n",
    "X_train = temp\n",
    "print(X_train.shape)\n",
    "print(X_train.dtype)"
   ]
  },
  {
   "cell_type": "code",
   "execution_count": 30,
   "metadata": {
    "scrolled": true
   },
   "outputs": [
    {
     "name": "stdout",
     "output_type": "stream",
     "text": [
      "(20000,)\n",
      "object\n"
     ]
    }
   ],
   "source": [
    "openPickleFile(\"X_test\")\n",
    "X_test = temp\n",
    "print(X_test.shape)\n",
    "print(X_test.dtype)"
   ]
  },
  {
   "cell_type": "markdown",
   "metadata": {},
   "source": [
    "**Vectorization of X_train**"
   ]
  },
  {
   "cell_type": "code",
   "execution_count": 31,
   "metadata": {},
   "outputs": [
    {
     "name": "stdout",
     "output_type": "stream",
     "text": [
      "the type of count vectorizer  <class 'scipy.sparse.csr.csr_matrix'>\n",
      "the shape of out text TFIDF vectorizer  (80000, 1035586)\n",
      "the number of unique words including both unigrams and bigrams  1035586\n",
      "TfidfVectorizer done! Time elapsed: 16.531789541244507 seconds\n"
     ]
    }
   ],
   "source": [
    "time_start = time.time()\n",
    "\n",
    "tf_idf_vect = TfidfVectorizer(ngram_range=(1,2))\n",
    "fit = tf_idf_vect.fit(X_train)\n",
    "final_tf_idf_train = fit.transform(X_train)\n",
    "print(\"the type of count vectorizer \",type(final_tf_idf_train))\n",
    "print(\"the shape of out text TFIDF vectorizer \",final_tf_idf_train.get_shape())\n",
    "print(\"the number of unique words including both unigrams and bigrams \", final_tf_idf_train.get_shape()[1])\n",
    "\n",
    "print ('TfidfVectorizer done! Time elapsed: {} seconds'.format(time.time()-time_start))"
   ]
  },
  {
   "cell_type": "code",
   "execution_count": 32,
   "metadata": {},
   "outputs": [
    {
     "data": {
      "text/plain": [
       "<80000x1035586 sparse matrix of type '<class 'numpy.float64'>'\n",
       "\twith 5203377 stored elements in Compressed Sparse Row format>"
      ]
     },
     "execution_count": 32,
     "metadata": {},
     "output_type": "execute_result"
    }
   ],
   "source": [
    "standardized_tfidf_train = MaxAbsScaler().fit_transform(final_tf_idf_train)\n",
    "standardized_tfidf_train"
   ]
  },
  {
   "cell_type": "code",
   "execution_count": 33,
   "metadata": {},
   "outputs": [],
   "source": [
    "#saving unigram sparse matrix.\n",
    "savePickleFile(standardized_tfidf_train, \"X_train_TFIDF_sparse\")"
   ]
  },
  {
   "cell_type": "markdown",
   "metadata": {},
   "source": [
    "**Transformation of X_test**"
   ]
  },
  {
   "cell_type": "code",
   "execution_count": 34,
   "metadata": {},
   "outputs": [
    {
     "name": "stdout",
     "output_type": "stream",
     "text": [
      "the type of count vectorizer  <class 'scipy.sparse.csr.csr_matrix'>\n",
      "the shape of out text TFIDF vectorizer  (20000, 1035586)\n",
      "the number of unique words including both unigrams and bigrams  1035586\n",
      "TfidfVectorizer done! Time elapsed: 1.7064361572265625 seconds\n"
     ]
    }
   ],
   "source": [
    "time_start = time.time()\n",
    "\n",
    "final_tf_idf_test = fit.transform(X_test)\n",
    "print(\"the type of count vectorizer \",type(final_tf_idf_test))\n",
    "print(\"the shape of out text TFIDF vectorizer \",final_tf_idf_test.get_shape())\n",
    "print(\"the number of unique words including both unigrams and bigrams \", final_tf_idf_test.get_shape()[1])\n",
    "\n",
    "print ('TfidfVectorizer done! Time elapsed: {} seconds'.format(time.time()-time_start))"
   ]
  },
  {
   "cell_type": "code",
   "execution_count": 35,
   "metadata": {},
   "outputs": [
    {
     "data": {
      "text/plain": [
       "<20000x1035586 sparse matrix of type '<class 'numpy.float64'>'\n",
       "\twith 1155232 stored elements in Compressed Sparse Row format>"
      ]
     },
     "execution_count": 35,
     "metadata": {},
     "output_type": "execute_result"
    }
   ],
   "source": [
    "standardized_tfidf_test = MaxAbsScaler().fit_transform(final_tf_idf_test)\n",
    "standardized_tfidf_test"
   ]
  },
  {
   "cell_type": "code",
   "execution_count": 36,
   "metadata": {},
   "outputs": [],
   "source": [
    "#saving unigram sparse matrix.\n",
    "savePickleFile(standardized_tfidf_test, \"X_test_TFIDF_sparse\")"
   ]
  },
  {
   "cell_type": "code",
   "execution_count": 37,
   "metadata": {},
   "outputs": [
    {
     "name": "stdout",
     "output_type": "stream",
     "text": [
      "(80000, 1035586)\n",
      "float64\n"
     ]
    }
   ],
   "source": [
    "openPickleFile(\"X_train_TFIDF_sparse\")\n",
    "X_train = temp\n",
    "print(X_train.shape)\n",
    "print(X_train.dtype)"
   ]
  },
  {
   "cell_type": "code",
   "execution_count": 38,
   "metadata": {},
   "outputs": [
    {
     "name": "stdout",
     "output_type": "stream",
     "text": [
      "(20000, 1035586)\n",
      "float64\n"
     ]
    }
   ],
   "source": [
    "openPickleFile(\"X_test_TFIDF_sparse\")\n",
    "X_test = temp\n",
    "print(X_test.shape)\n",
    "print(X_test.dtype)"
   ]
  },
  {
   "cell_type": "markdown",
   "metadata": {},
   "source": [
    "**RandomizedSearchCV**"
   ]
  },
  {
   "cell_type": "code",
   "execution_count": 39,
   "metadata": {},
   "outputs": [],
   "source": [
    "y_train =y_train.astype(float)"
   ]
  },
  {
   "cell_type": "code",
   "execution_count": 40,
   "metadata": {},
   "outputs": [
    {
     "data": {
      "text/plain": [
       "dtype('float64')"
      ]
     },
     "execution_count": 40,
     "metadata": {},
     "output_type": "execute_result"
    }
   ],
   "source": [
    "y_train.dtype"
   ]
  },
  {
   "cell_type": "code",
   "execution_count": 41,
   "metadata": {
    "scrolled": true
   },
   "outputs": [
    {
     "name": "stdout",
     "output_type": "stream",
     "text": [
      "LogisticRegression(C=1000, class_weight=None, dual=False, fit_intercept=True,\n",
      "          intercept_scaling=1, max_iter=100, multi_class='ovr', n_jobs=1,\n",
      "          penalty='l2', random_state=None, solver='liblinear', tol=0.0001,\n",
      "          verbose=0, warm_start=False)\n",
      "0.9489758817113078\n",
      "CV for TFIDF in range(10e-5, 10e+5) done! Time elapsed: 66.30705428123474 seconds\n"
     ]
    }
   ],
   "source": [
    "time_start = time.time()\n",
    "\n",
    "tuned_parameters = {'C': [10**i for i in range(-5,5,1)]} #params should be passed as a dict not as list of dict.\n",
    "\n",
    "#Using RandomizedSearchCV\n",
    "model =  RandomizedSearchCV(LogisticRegression(), tuned_parameters, scoring = 'f1', cv=5, n_jobs=6, random_state = 12, n_iter=5)\n",
    "model.fit(X_train, y_train)\n",
    "\n",
    "print(model.best_estimator_)\n",
    "print(model.score(X_test, y_test))\n",
    "\n",
    "print ('CV for TFIDF in range(10e-5, 10e+5) done! Time elapsed: {} seconds'.format(time.time()-time_start))"
   ]
  },
  {
   "cell_type": "code",
   "execution_count": 42,
   "metadata": {
    "scrolled": true
   },
   "outputs": [
    {
     "name": "stdout",
     "output_type": "stream",
     "text": [
      "Model with rank: 1\n",
      "Mean validation score: 0.958 (std: 0.001)\n",
      "Parameters: {'C': 1000}\n",
      "\n",
      "Model with rank: 2\n",
      "Mean validation score: 0.957 (std: 0.001)\n",
      "Parameters: {'C': 100}\n",
      "\n",
      "Model with rank: 3\n",
      "Mean validation score: 0.955 (std: 0.001)\n",
      "Parameters: {'C': 1}\n",
      "\n"
     ]
    }
   ],
   "source": [
    "#print(\"GridSearchCV took %.2f seconds for %d candidate parameter settings.\" % (time() - start, len(results['params'])))\n",
    "report(model.cv_results_)"
   ]
  },
  {
   "cell_type": "code",
   "execution_count": 43,
   "metadata": {
    "scrolled": true
   },
   "outputs": [
    {
     "name": "stdout",
     "output_type": "stream",
     "text": [
      "\n",
      "The CV F1 score of the Logistic Regression is 95.753395%\n",
      "\n",
      "The Test F1 score of the Logistic Regression for C = 1000.000000 is 94.897588%\n"
     ]
    }
   ],
   "source": [
    "# ============================== Logistic Regression with C = optimal_C ===============================================\n",
    "# evaluate CV accuracy\n",
    "optimal_cv_result = max(model.cv_results_['mean_test_score'])\n",
    "acc = optimal_cv_result * float(100)\n",
    "print('\\nThe CV F1 score of the Logistic Regression is %f%%' % (acc))\n",
    "\n",
    "# evaluate accuracy\n",
    "acc = model.score(X_test, y_test) * 100\n",
    "print('\\nThe Test F1 score of the Logistic Regression for C = %f is %f%%' % (model.best_params_['C'], acc))"
   ]
  },
  {
   "cell_type": "markdown",
   "metadata": {},
   "source": [
    "**Precision, Recall and F1 score report**"
   ]
  },
  {
   "cell_type": "code",
   "execution_count": 44,
   "metadata": {},
   "outputs": [
    {
     "name": "stdout",
     "output_type": "stream",
     "text": [
      "             precision    recall  f1-score   support\n",
      "\n",
      "    class 0       0.87      0.65      0.74      3943\n",
      "    class 1       0.92      0.98      0.95     16057\n",
      "\n",
      "avg / total       0.91      0.91      0.91     20000\n",
      "\n"
     ]
    }
   ],
   "source": [
    "y_pred = model.predict(X_test)\n",
    "\n",
    "from sklearn.metrics import classification_report\n",
    "\n",
    "target_names = ['class 0', 'class 1']\n",
    "print(classification_report(y_test, pred, target_names=target_names))"
   ]
  },
  {
   "cell_type": "markdown",
   "metadata": {},
   "source": [
    "**Confusion matrix**"
   ]
  },
  {
   "cell_type": "code",
   "execution_count": 45,
   "metadata": {
    "scrolled": false
   },
   "outputs": [
    {
     "data": {
      "text/plain": [
       "<matplotlib.axes._subplots.AxesSubplot at 0x2191cce9f28>"
      ]
     },
     "execution_count": 45,
     "metadata": {},
     "output_type": "execute_result"
    },
    {
     "data": {
      "image/png": "[encoded data removed]",
      "text/plain": [
       "<Figure size 432x288 with 2 Axes>"
      ]
     },
     "metadata": {},
     "output_type": "display_data"
    }
   ],
   "source": [
    "import seaborn as sns; sns.set()\n",
    "cnf_matrix = confusion_matrix(y_test, pred)\n",
    "\n",
    "df_cm = pd.DataFrame(cnf_matrix)\n",
    "\n",
    "#sns.set(font_scale=1.4)#for label size\n",
    "sns.heatmap(df_cm, annot=True,annot_kws={\"size\": 15},cmap=\"YlGnBu\")# font size and colors selection."
   ]
  },
  {
   "cell_type": "markdown",
   "metadata": {},
   "source": [
    "**ROC AUC curve**"
   ]
  },
  {
   "cell_type": "code",
   "execution_count": 46,
   "metadata": {},
   "outputs": [
    {
     "data": {
      "image/png": "[encoded data removed]",
      "text/plain": [
       "<Figure size 432x288 with 1 Axes>"
      ]
     },
     "metadata": {},
     "output_type": "display_data"
    }
   ],
   "source": [
    "import scikitplot as skplt\n",
    "\n",
    "LR_optimal = LogisticRegression(C=model.best_params_['C'], penalty='l1').fit(X_train, y_train)\n",
    "\n",
    "predicted_probas = LR_optimal.predict_proba(X_test)\n",
    "\n",
    "skplt.metrics.plot_roc(y_test, predicted_probas, plot_micro=False, plot_macro=False)\n",
    "plt.show()"
   ]
  },
  {
   "cell_type": "markdown",
   "metadata": {
    "collapsed": true
   },
   "source": [
    "## 2.1. Feature importance for both positive and negative features."
   ]
  },
  {
   "cell_type": "markdown",
   "metadata": {},
   "source": [
    "### Top 25 TFIDF."
   ]
  },
  {
   "cell_type": "code",
   "execution_count": 47,
   "metadata": {},
   "outputs": [],
   "source": [
    "def show_most_informative_features(vectorizer, clf, n=25):\n",
    "    feature_names = vectorizer.get_feature_names()\n",
    "    coefs_with_fns = sorted(zip(clf.coef_[0], feature_names))\n",
    "    top = zip(coefs_with_fns[:n], coefs_with_fns[:-(n + 1):-1])\n",
    "    print (\"\\tTop {} Negative features\\tTop {} Positive features\".format(n, n))\n",
    "    print (\"\\t------------------------\\t------------------------\")\n",
    "    for (coef_1, fn_1), (coef_2, fn_2) in top:\n",
    "        print (\"\\t%.4f\\t%-15s\\t\\t%.4f\\t%-15s\" % (coef_1, fn_1, coef_2, fn_2))"
   ]
  },
  {
   "cell_type": "code",
   "execution_count": 48,
   "metadata": {
    "scrolled": false
   },
   "outputs": [
    {
     "name": "stdout",
     "output_type": "stream",
     "text": [
      "\tTop 25 Negative features\tTop 25 Positive features\n",
      "\t------------------------\t------------------------\n",
      "\t-19.0221\tworst          \t\t37.2340\texcel          \n",
      "\t-17.9811\tcancel         \t\t19.9271\tdelici         \n",
      "\t-17.0697\ttwo star       \t\t18.5766\tbest           \n",
      "\t-17.0412\tcant good      \t\t15.8967\tawesom         \n",
      "\t-16.4049\tabsolut worst  \t\t14.0629\tamaz           \n",
      "\t-15.6498\tdont recommend \t\t13.9644\taddict         \n",
      "\t-15.5485\tterribl        \t\t13.5129\tbag suppos     \n",
      "\t-15.2761\tusual love     \t\t13.3555\tgreat          \n",
      "\t-14.7813\tflavor defin   \t\t12.2829\tyummi          \n",
      "\t-14.6397\tsearch continu \t\t12.1793\tlove           \n",
      "\t-14.4238\tbetter luck    \t\t11.9104\tsever tea      \n",
      "\t-14.3956\tbest scale     \t\t11.5227\tfantast        \n",
      "\t-14.3891\tway sweet      \t\t11.4017\tmay sure       \n",
      "\t-13.5927\tminut birthday \t\t11.1817\tyoull like     \n",
      "\t-13.5088\tblech          \t\t10.9676\tmuch say       \n",
      "\t-13.4778\tprefer dijon   \t\t10.9304\twont disappoint\n",
      "\t-13.4498\tcanist coupl   \t\t10.7637\treturn got     \n",
      "\t-13.2751\tbetter dinner  \t\t10.6824\tperfect        \n",
      "\t-13.2703\tdrink although \t\t10.6205\tyum            \n",
      "\t-13.2197\tbesid take     \t\t10.4217\tnever disappoint\n",
      "\t-13.1770\tbag tear       \t\t10.4004\tbought wrong   \n",
      "\t-13.0935\tposit note     \t\t10.0438\tclassmat love  \n",
      "\t-13.0831\tbill quit      \t\t10.0067\tdescript indic \n",
      "\t-13.0240\twould anyon    \t\t9.4857\tmistak amazon  \n",
      "\t-12.8942\tfarm brand     \t\t9.4557\thook           \n"
     ]
    }
   ],
   "source": [
    "show_most_informative_features(tf_idf_vect, LR_optimal, n=25)"
   ]
  },
  {
   "cell_type": "markdown",
   "metadata": {
    "collapsed": true
   },
   "source": [
    "# 3. CV on Standardized data for Avg W2V."
   ]
  },
  {
   "cell_type": "code",
   "execution_count": 49,
   "metadata": {
    "scrolled": true
   },
   "outputs": [
    {
     "name": "stdout",
     "output_type": "stream",
     "text": [
      "(80000,)\n",
      "object\n"
     ]
    }
   ],
   "source": [
    "openPickleFile(\"X_train\")\n",
    "X_train = temp\n",
    "print(X_train.shape)\n",
    "print(X_train.dtype)"
   ]
  },
  {
   "cell_type": "code",
   "execution_count": 50,
   "metadata": {
    "scrolled": false
   },
   "outputs": [
    {
     "name": "stdout",
     "output_type": "stream",
     "text": [
      "(20000,)\n",
      "object\n"
     ]
    }
   ],
   "source": [
    "openPickleFile(\"X_test\")\n",
    "X_test = temp\n",
    "print(X_test.shape)\n",
    "print(X_test.dtype)"
   ]
  },
  {
   "cell_type": "markdown",
   "metadata": {},
   "source": [
    "**W2V training of X_train**"
   ]
  },
  {
   "cell_type": "code",
   "execution_count": 51,
   "metadata": {},
   "outputs": [
    {
     "name": "stderr",
     "output_type": "stream",
     "text": [
      "C:\\Users\\avinash\\Anaconda3\\lib\\site-packages\\gensim\\utils.py:1209: UserWarning: detected Windows; aliasing chunkize to chunkize_serial\n",
      "  warnings.warn(\"detected Windows; aliasing chunkize to chunkize_serial\")\n"
     ]
    }
   ],
   "source": [
    "# Train your own Word2Vec model using only X_train corpus.\n",
    "from gensim.models import Word2Vec\n",
    "from gensim.models import KeyedVectors\n",
    "\n",
    "i=0\n",
    "list_of_sent=[]\n",
    "for sent in X_train:\n",
    "    list_of_sent.append(sent.split())"
   ]
  },
  {
   "cell_type": "code",
   "execution_count": 52,
   "metadata": {},
   "outputs": [],
   "source": [
    "# min_count = 5 considers only words that occured atleast 5 times\n",
    "w2v_model=Word2Vec(list_of_sent,min_count=5,size=50, workers=4)"
   ]
  },
  {
   "cell_type": "code",
   "execution_count": 53,
   "metadata": {},
   "outputs": [
    {
     "name": "stdout",
     "output_type": "stream",
     "text": [
      "number of words that occured minimum 5 times  11337\n",
      "sample words  ['littl', 'book', 'make', 'son', 'laugh', 'loud', 'car', 'drive', 'along', 'alway', 'sing', 'refrain', 'hes', 'learn', 'whale', 'india', 'droop', 'love', 'new', 'word', 'introduc', 'silli', 'classic', 'will', 'bet', 'still', 'abl', 'memori', 'colleg', 'rememb', 'see', 'show', 'air', 'televis', 'year', 'ago', 'child', 'sister', 'later', 'bought', 'day', 'thirti', 'someth', 'use', 'seri', 'song', 'student', 'teach', 'preschool', 'turn']\n"
     ]
    }
   ],
   "source": [
    "w2v_words = list(w2v_model.wv.vocab)\n",
    "print(\"number of words that occured minimum 5 times \",len(w2v_words))\n",
    "print(\"sample words \", w2v_words[0:50])"
   ]
  },
  {
   "cell_type": "code",
   "execution_count": 54,
   "metadata": {},
   "outputs": [
    {
     "name": "stderr",
     "output_type": "stream",
     "text": [
      "100%|██████████| 80000/80000 [01:27<00:00, 918.85it/s]\n"
     ]
    },
    {
     "name": "stdout",
     "output_type": "stream",
     "text": [
      "80000\n",
      "50\n"
     ]
    }
   ],
   "source": [
    "# average Word2Vec\n",
    "# compute average word2vec for each review.\n",
    "sent_vectors = []; # the avg-w2v for each sentence/review is stored in this list\n",
    "for sent in tqdm(list_of_sent): # for each review/sentence\n",
    "    sent_vec = np.zeros(50) # as word vectors are of zero length\n",
    "    cnt_words =0; # num of words with a valid vector in the sentence/review\n",
    "    for word in sent: # for each word in a review/sentence\n",
    "        if word in w2v_words:\n",
    "            vec = w2v_model.wv[word]\n",
    "            sent_vec += vec\n",
    "            cnt_words += 1\n",
    "    if cnt_words != 0:\n",
    "        sent_vec /= cnt_words\n",
    "    sent_vectors.append(sent_vec)\n",
    "print(len(sent_vectors))\n",
    "print(len(sent_vectors[0]))"
   ]
  },
  {
   "cell_type": "code",
   "execution_count": 55,
   "metadata": {},
   "outputs": [],
   "source": [
    "# Data-preprocessing: Standardizing the data\n",
    "standardized_avg_w2v_train = StandardScaler().fit_transform(sent_vectors)\n",
    "\n",
    "#Storing the standardized data into a pickle file for future use.\n",
    "savePickleFile(standardized_avg_w2v_train, \"X_train_AVG_W2V_vectors\")"
   ]
  },
  {
   "cell_type": "markdown",
   "metadata": {},
   "source": [
    "**Vectorization of X_test**"
   ]
  },
  {
   "cell_type": "code",
   "execution_count": 56,
   "metadata": {},
   "outputs": [],
   "source": [
    "# Training X_cv using X_train model.\n",
    "i=0\n",
    "list_of_sent=[]\n",
    "for sent in X_test:\n",
    "    list_of_sent.append(sent.split())"
   ]
  },
  {
   "cell_type": "code",
   "execution_count": 57,
   "metadata": {
    "scrolled": false
   },
   "outputs": [
    {
     "name": "stderr",
     "output_type": "stream",
     "text": [
      "100%|██████████| 20000/20000 [00:23<00:00, 869.04it/s]\n"
     ]
    },
    {
     "name": "stdout",
     "output_type": "stream",
     "text": [
      "20000\n",
      "50\n"
     ]
    }
   ],
   "source": [
    "# average Word2Vec\n",
    "# compute average word2vec for each review.\n",
    "sent_vectors = []; # the avg-w2v for each sentence/review is stored in this list\n",
    "for sent in tqdm(list_of_sent): # for each review/sentence\n",
    "    sent_vec = np.zeros(50) # as word vectors are of zero length\n",
    "    cnt_words =0; # num of words with a valid vector in the sentence/review\n",
    "    for word in sent: # for each word in a review/sentence\n",
    "        if word in w2v_words:\n",
    "            vec = w2v_model.wv[word]\n",
    "            sent_vec += vec\n",
    "            cnt_words += 1\n",
    "    if cnt_words != 0:\n",
    "        sent_vec /= cnt_words\n",
    "    sent_vectors.append(sent_vec)\n",
    "print(len(sent_vectors))\n",
    "print(len(sent_vectors[0]))"
   ]
  },
  {
   "cell_type": "markdown",
   "metadata": {},
   "source": [
    "**Standardization of W2V of X_test**"
   ]
  },
  {
   "cell_type": "code",
   "execution_count": 58,
   "metadata": {},
   "outputs": [],
   "source": [
    "# Data-preprocessing: Standardizing the data\n",
    "standardized_avg_w2v_test = StandardScaler().fit_transform(sent_vectors)\n",
    "\n",
    "#Storing the standardized data into a pickle file for future use.\n",
    "savePickleFile(standardized_avg_w2v_test, \"X_test_AVG_W2V_vectors\")"
   ]
  },
  {
   "cell_type": "code",
   "execution_count": 59,
   "metadata": {},
   "outputs": [
    {
     "name": "stdout",
     "output_type": "stream",
     "text": [
      "(80000, 50)\n",
      "float64\n"
     ]
    }
   ],
   "source": [
    "openPickleFile(\"X_train_AVG_W2V_vectors\")\n",
    "X_train = temp\n",
    "print(X_train.shape)\n",
    "print(X_train.dtype)"
   ]
  },
  {
   "cell_type": "code",
   "execution_count": 60,
   "metadata": {},
   "outputs": [
    {
     "name": "stdout",
     "output_type": "stream",
     "text": [
      "(20000, 50)\n",
      "float64\n"
     ]
    }
   ],
   "source": [
    "openPickleFile(\"X_test_AVG_W2V_vectors\")\n",
    "X_test = temp\n",
    "print(X_test.shape)\n",
    "print(X_test.dtype)"
   ]
  },
  {
   "cell_type": "markdown",
   "metadata": {},
   "source": [
    "**RandomizedSearchCV**"
   ]
  },
  {
   "cell_type": "code",
   "execution_count": 61,
   "metadata": {},
   "outputs": [],
   "source": [
    "y_train =y_train.astype(float)"
   ]
  },
  {
   "cell_type": "code",
   "execution_count": 62,
   "metadata": {},
   "outputs": [
    {
     "data": {
      "text/plain": [
       "dtype('float64')"
      ]
     },
     "execution_count": 62,
     "metadata": {},
     "output_type": "execute_result"
    }
   ],
   "source": [
    "y_train.dtype"
   ]
  },
  {
   "cell_type": "code",
   "execution_count": 63,
   "metadata": {
    "scrolled": true
   },
   "outputs": [
    {
     "name": "stdout",
     "output_type": "stream",
     "text": [
      "LogisticRegression(C=0.01, class_weight=None, dual=False, fit_intercept=True,\n",
      "          intercept_scaling=1, max_iter=100, multi_class='ovr', n_jobs=1,\n",
      "          penalty='l2', random_state=None, solver='liblinear', tol=0.0001,\n",
      "          verbose=0, warm_start=False)\n",
      "0.9221081128799695\n",
      "CV for Unigrams in range(10e-4, 10e+4) done! Time elapsed: 12.878559350967407 seconds\n"
     ]
    }
   ],
   "source": [
    "time_start = time.time()\n",
    "\n",
    "tuned_parameters = {'C': [10**i for i in range(-4,4,1)]} #params should be passed as a dict not as list of dict.\n",
    "\n",
    "#Using RandomizedSearchCV\n",
    "model =  RandomizedSearchCV(LogisticRegression(), tuned_parameters, scoring = 'f1', cv=5, n_jobs=6, random_state = 12, n_iter=5)\n",
    "model.fit(X_train, y_train)\n",
    "\n",
    "print(model.best_estimator_)\n",
    "print(model.score(X_test, y_test))\n",
    "\n",
    "print ('CV for Unigrams in range(10e-4, 10e+4) done! Time elapsed: {} seconds'.format(time.time()-time_start))"
   ]
  },
  {
   "cell_type": "code",
   "execution_count": 64,
   "metadata": {
    "scrolled": true
   },
   "outputs": [
    {
     "name": "stdout",
     "output_type": "stream",
     "text": [
      "Model with rank: 1\n",
      "Mean validation score: 0.940 (std: 0.001)\n",
      "Parameters: {'C': 0.01}\n",
      "\n",
      "Model with rank: 2\n",
      "Mean validation score: 0.940 (std: 0.001)\n",
      "Parameters: {'C': 100}\n",
      "\n",
      "Model with rank: 3\n",
      "Mean validation score: 0.940 (std: 0.001)\n",
      "Parameters: {'C': 1}\n",
      "\n"
     ]
    }
   ],
   "source": [
    "#print(\"GridSearchCV took %.2f seconds for %d candidate parameter settings.\" % (time() - start, len(results['params'])))\n",
    "report(model.cv_results_)"
   ]
  },
  {
   "cell_type": "code",
   "execution_count": 65,
   "metadata": {
    "scrolled": true
   },
   "outputs": [
    {
     "name": "stdout",
     "output_type": "stream",
     "text": [
      "\n",
      "The CV F1 score of the Logistic Regression is 94.043473%\n",
      "\n",
      "The Test F1 score of the Logistic Regression for C = 0.010000 is 92.210811%\n"
     ]
    }
   ],
   "source": [
    "# ============================== Logistic Regression with C = optimal_C ===============================================\n",
    "# evaluate CV accuracy\n",
    "optimal_cv_result = max(model.cv_results_['mean_test_score'])\n",
    "acc = optimal_cv_result * float(100)\n",
    "print('\\nThe CV F1 score of the Logistic Regression is %f%%' % (acc))\n",
    "\n",
    "# evaluate accuracy\n",
    "acc = model.score(X_test, y_test) * 100\n",
    "print('\\nThe Test F1 score of the Logistic Regression for C = %f is %f%%' % (model.best_params_['C'], acc))"
   ]
  },
  {
   "cell_type": "markdown",
   "metadata": {},
   "source": [
    "**Precision, Recall and F1 score report**"
   ]
  },
  {
   "cell_type": "code",
   "execution_count": 66,
   "metadata": {},
   "outputs": [
    {
     "name": "stdout",
     "output_type": "stream",
     "text": [
      "             precision    recall  f1-score   support\n",
      "\n",
      "    class 0       0.87      0.65      0.74      3943\n",
      "    class 1       0.92      0.98      0.95     16057\n",
      "\n",
      "avg / total       0.91      0.91      0.91     20000\n",
      "\n"
     ]
    }
   ],
   "source": [
    "y_pred = model.predict(X_test)\n",
    "\n",
    "from sklearn.metrics import classification_report\n",
    "\n",
    "target_names = ['class 0', 'class 1']\n",
    "print(classification_report(y_test, pred, target_names=target_names))"
   ]
  },
  {
   "cell_type": "markdown",
   "metadata": {},
   "source": [
    "**Confusion matrix**"
   ]
  },
  {
   "cell_type": "code",
   "execution_count": 67,
   "metadata": {
    "scrolled": true
   },
   "outputs": [
    {
     "data": {
      "text/plain": [
       "<matplotlib.axes._subplots.AxesSubplot at 0x21952cc2208>"
      ]
     },
     "execution_count": 67,
     "metadata": {},
     "output_type": "execute_result"
    },
    {
     "data": {
      "image/png": "[encoded data removed]",
      "text/plain": [
       "<Figure size 432x288 with 2 Axes>"
      ]
     },
     "metadata": {},
     "output_type": "display_data"
    }
   ],
   "source": [
    "import seaborn as sns; sns.set()\n",
    "cnf_matrix = confusion_matrix(y_test, pred)\n",
    "\n",
    "df_cm = pd.DataFrame(cnf_matrix)\n",
    "\n",
    "#sns.set(font_scale=1.4)#for label size\n",
    "sns.heatmap(df_cm, annot=True,annot_kws={\"size\": 15},cmap=\"YlGnBu\")# font size and colors selection."
   ]
  },
  {
   "cell_type": "markdown",
   "metadata": {},
   "source": [
    "**ROC AUC curve**"
   ]
  },
  {
   "cell_type": "code",
   "execution_count": 68,
   "metadata": {},
   "outputs": [
    {
     "data": {
      "image/png": "[encoded data removed]",
      "text/plain": [
       "<Figure size 432x288 with 1 Axes>"
      ]
     },
     "metadata": {},
     "output_type": "display_data"
    }
   ],
   "source": [
    "import scikitplot as skplt\n",
    "\n",
    "LR_optimal = LogisticRegression(C=model.best_params_['C'], penalty='l1').fit(X_train, y_train)\n",
    "\n",
    "predicted_probas = LR_optimal.predict_proba(X_test)\n",
    "\n",
    "skplt.metrics.plot_roc(y_test, predicted_probas, plot_micro=False, plot_macro=False)\n",
    "plt.show()"
   ]
  },
  {
   "cell_type": "markdown",
   "metadata": {
    "collapsed": true
   },
   "source": [
    "## 3.1. Feature importance for both positive and negative features."
   ]
  },
  {
   "cell_type": "markdown",
   "metadata": {},
   "source": [
    "### Top 25 AVG W2V."
   ]
  },
  {
   "cell_type": "code",
   "execution_count": 69,
   "metadata": {},
   "outputs": [],
   "source": [
    "def show_most_informative_features(vectorizer, clf, n=20):\n",
    "    feature_names = w2v_words\n",
    "    coefs_with_fns = sorted(zip(clf.coef_[0], feature_names))\n",
    "    top = zip(coefs_with_fns[:n], coefs_with_fns[:-(n + 1):-1])\n",
    "    print (\"\\tTop {} Negative features\\tTop {} Positive features\".format(n, n))\n",
    "    print (\"\\t------------------------\\t------------------------\")\n",
    "    for (coef_1, fn_1), (coef_2, fn_2) in top:\n",
    "        print (\"\\t%.4f\\t%-15s\\t\\t%.4f\\t%-15s\" % (coef_1, fn_1, coef_2, fn_2))"
   ]
  },
  {
   "cell_type": "code",
   "execution_count": 70,
   "metadata": {
    "scrolled": false
   },
   "outputs": [
    {
     "name": "stdout",
     "output_type": "stream",
     "text": [
      "\tTop 25 Negative features\tTop 25 Positive features\n",
      "\t------------------------\t------------------------\n",
      "\t-0.5161\tsong           \t\t0.4510\tshow           \n",
      "\t-0.4900\tbook           \t\t0.4009\tyear           \n",
      "\t-0.4394\tstill          \t\t0.3322\tlove           \n",
      "\t-0.3847\tpreschool      \t\t0.3274\thes            \n",
      "\t-0.3731\ttelevis        \t\t0.3103\tlaugh          \n",
      "\t-0.3627\tsing           \t\t0.2998\trememb         \n",
      "\t-0.3579\tuse            \t\t0.2885\tindia          \n",
      "\t-0.3014\tsilli          \t\t0.2657\twill           \n",
      "\t-0.2971\tturn           \t\t0.2574\tseri           \n",
      "\t-0.2389\tair            \t\t0.2446\tabl            \n",
      "\t-0.1928\tlearn          \t\t0.2409\talway          \n",
      "\t-0.1580\tword           \t\t0.2200\tbought         \n",
      "\t-0.1100\tstudent        \t\t0.2184\tcolleg         \n",
      "\t-0.0619\tloud           \t\t0.2104\tago            \n",
      "\t-0.0233\tbet            \t\t0.1916\tcar            \n",
      "\t-0.0163\tsometh         \t\t0.1853\tsister         \n",
      "\t-0.0023\tthirti         \t\t0.1642\tsee            \n",
      "\t0.0000\tday            \t\t0.1536\tson            \n",
      "\t0.0000\tdrive          \t\t0.1413\twhale          \n",
      "\t0.0000\tdroop          \t\t0.1364\tchild          \n",
      "\t0.0000\tlater          \t\t0.0905\tmake           \n",
      "\t0.0000\tnew            \t\t0.0508\trefrain        \n",
      "\t0.0000\tteach          \t\t0.0426\talong          \n",
      "\t0.0157\tintroduc       \t\t0.0409\tclassic        \n",
      "\t0.0304\tmemori         \t\t0.0330\tlittl          \n"
     ]
    }
   ],
   "source": [
    "show_most_informative_features(w2v_model, LR_optimal, n=25)"
   ]
  },
  {
   "cell_type": "markdown",
   "metadata": {
    "collapsed": true
   },
   "source": [
    "# 4. CV on Standardized data for TFIDF-Avg W2V."
   ]
  },
  {
   "cell_type": "code",
   "execution_count": 71,
   "metadata": {
    "scrolled": false
   },
   "outputs": [
    {
     "name": "stdout",
     "output_type": "stream",
     "text": [
      "(80000,)\n",
      "object\n"
     ]
    }
   ],
   "source": [
    "openPickleFile(\"X_train\")\n",
    "X_train = temp\n",
    "print(X_train.shape)\n",
    "print(X_train.dtype)"
   ]
  },
  {
   "cell_type": "code",
   "execution_count": 72,
   "metadata": {
    "scrolled": false
   },
   "outputs": [
    {
     "name": "stdout",
     "output_type": "stream",
     "text": [
      "(20000,)\n",
      "object\n"
     ]
    }
   ],
   "source": [
    "openPickleFile(\"X_test\")\n",
    "X_test = temp\n",
    "print(X_test.shape)\n",
    "print(X_test.dtype)"
   ]
  },
  {
   "cell_type": "markdown",
   "metadata": {},
   "source": [
    "**Training of X_train for TFIDF**"
   ]
  },
  {
   "cell_type": "code",
   "execution_count": 73,
   "metadata": {},
   "outputs": [],
   "source": [
    "# S = [\"abc def pqr\", \"def def def abc\", \"pqr pqr def\"]\n",
    "model = TfidfVectorizer()\n",
    "fit = model.fit(X_train)\n",
    "tf_idf_matrix = fit.transform(X_train)\n",
    "# we are converting a dictionary with word as a key, and the idf as a value\n",
    "dictionary = dict(zip(model.get_feature_names(), list(model.idf_)))"
   ]
  },
  {
   "cell_type": "markdown",
   "metadata": {},
   "source": [
    "**Training of X_train for TFIDF AVGW2V**"
   ]
  },
  {
   "cell_type": "code",
   "execution_count": 74,
   "metadata": {},
   "outputs": [],
   "source": [
    "# To get the list of sent for X_train\n",
    "i=0\n",
    "list_of_sent=[]\n",
    "for sent in X_train:\n",
    "    list_of_sent.append(sent.split())"
   ]
  },
  {
   "cell_type": "code",
   "execution_count": 75,
   "metadata": {
    "scrolled": true
   },
   "outputs": [
    {
     "name": "stderr",
     "output_type": "stream",
     "text": [
      "100%|██████████| 80000/80000 [01:41<00:00, 787.05it/s]\n"
     ]
    }
   ],
   "source": [
    "# TF-IDF weighted Word2Vec\n",
    "tfidf_feat = model.get_feature_names() # tfidf words/col-names\n",
    "# final_tf_idf is the sparse matrix with row= sentence, col=word and cell_val = tfidf\n",
    "\n",
    "tfidf_sent_vectors = []; # the tfidf-w2v for each sentence/review is stored in this list\n",
    "row=0;\n",
    "for sent in tqdm(list_of_sent): # for each review/sentence \n",
    "    sent_vec = np.zeros(50) # as word vectors are of zero length\n",
    "    weight_sum =0; # num of words with a valid vector in the sentence/review\n",
    "    for word in sent: # for each word in a review/sentence\n",
    "        if word in w2v_words:\n",
    "            vec = w2v_model.wv[word]\n",
    "#             tf_idf = tf_idf_matrix[row, tfidf_feat.index(word)]\n",
    "            # to reduce the computation we are \n",
    "            # dictionary[word] = idf value of word in whole courpus\n",
    "            # sent.count(word) = tf values of word in this review\n",
    "            tf_idf = dictionary[word]*sent.count(word)\n",
    "            sent_vec += (vec * tf_idf)\n",
    "            weight_sum += tf_idf\n",
    "    if weight_sum != 0:\n",
    "        sent_vec /= weight_sum\n",
    "    tfidf_sent_vectors.append(sent_vec)\n",
    "    row += 1"
   ]
  },
  {
   "cell_type": "markdown",
   "metadata": {},
   "source": [
    "**Standardization of TFIDF AvgW2V of X_train**"
   ]
  },
  {
   "cell_type": "code",
   "execution_count": 76,
   "metadata": {},
   "outputs": [],
   "source": [
    "# Data-preprocessing: Standardizing the data\n",
    "standardized_tfidf_avg_w2v_train = StandardScaler().fit_transform(tfidf_sent_vectors)\n",
    "\n",
    "#Storing the standardized_tfidf_sent_vectors_array data into a pickle file for future use.\n",
    "savePickleFile(standardized_tfidf_avg_w2v_train, \"X_train_TFIDF_AvgW2V\")"
   ]
  },
  {
   "cell_type": "markdown",
   "metadata": {},
   "source": [
    "**Transformation of X_test for TFIDF**"
   ]
  },
  {
   "cell_type": "code",
   "execution_count": 77,
   "metadata": {},
   "outputs": [],
   "source": [
    "# S = [\"abc def pqr\", \"def def def abc\", \"pqr pqr def\"]\n",
    "tf_idf_matrix = fit.transform(X_test)\n",
    "# we are converting a dictionary with word as a key, and the idf as a value\n",
    "dictionary = dict(zip(model.get_feature_names(), list(model.idf_)))"
   ]
  },
  {
   "cell_type": "markdown",
   "metadata": {},
   "source": [
    "**Training of X_test for TFIDF AVGW2V**"
   ]
  },
  {
   "cell_type": "code",
   "execution_count": 78,
   "metadata": {},
   "outputs": [],
   "source": [
    "# Training X_cv using X_train model.\n",
    "i=0\n",
    "list_of_sent=[]\n",
    "for sent in X_test:\n",
    "    list_of_sent.append(sent.split())"
   ]
  },
  {
   "cell_type": "code",
   "execution_count": 79,
   "metadata": {
    "scrolled": true
   },
   "outputs": [
    {
     "name": "stderr",
     "output_type": "stream",
     "text": [
      "100%|██████████| 20000/20000 [00:26<00:00, 750.31it/s]\n"
     ]
    }
   ],
   "source": [
    "# TF-IDF weighted Word2Vec\n",
    "tfidf_feat = model.get_feature_names() # tfidf words/col-names\n",
    "# final_tf_idf is the sparse matrix with row= sentence, col=word and cell_val = tfidf\n",
    "\n",
    "tfidf_sent_vectors = []; # the tfidf-w2v for each sentence/review is stored in this list\n",
    "row=0;\n",
    "for sent in tqdm(list_of_sent): # for each review/sentence \n",
    "    sent_vec = np.zeros(50) # as word vectors are of zero length\n",
    "    weight_sum =0; # num of words with a valid vector in the sentence/review\n",
    "    for word in sent: # for each word in a review/sentence\n",
    "        if word in w2v_words:\n",
    "            vec = w2v_model.wv[word]\n",
    "#             tf_idf = tf_idf_matrix[row, tfidf_feat.index(word)]\n",
    "            # to reduce the computation we are \n",
    "            # dictionary[word] = idf value of word in whole courpus\n",
    "            # sent.count(word) = tf values of word in this review\n",
    "            tf_idf = dictionary[word]*sent.count(word)\n",
    "            sent_vec += (vec * tf_idf)\n",
    "            weight_sum += tf_idf\n",
    "    if weight_sum != 0:\n",
    "        sent_vec /= weight_sum\n",
    "    tfidf_sent_vectors.append(sent_vec)\n",
    "    row += 1"
   ]
  },
  {
   "cell_type": "markdown",
   "metadata": {},
   "source": [
    "**Standardization of TFIDF AvgW2V of X_test**"
   ]
  },
  {
   "cell_type": "code",
   "execution_count": 80,
   "metadata": {},
   "outputs": [],
   "source": [
    "# Data-preprocessing: Standardizing the data\n",
    "standardized_tfidf_avg_w2v_test = StandardScaler().fit_transform(tfidf_sent_vectors)\n",
    "\n",
    "#Storing the standardized_tfidf_sent_vectors_array data into a pickle file for future use.\n",
    "savePickleFile(standardized_tfidf_avg_w2v_test, \"X_test_TFIDF_AvgW2V\")"
   ]
  },
  {
   "cell_type": "code",
   "execution_count": 81,
   "metadata": {},
   "outputs": [
    {
     "name": "stdout",
     "output_type": "stream",
     "text": [
      "(80000, 50)\n",
      "float64\n"
     ]
    }
   ],
   "source": [
    "openPickleFile(\"X_train_TFIDF_AvgW2V\")\n",
    "X_train = temp\n",
    "print(X_train.shape)\n",
    "print(X_train.dtype)"
   ]
  },
  {
   "cell_type": "code",
   "execution_count": 82,
   "metadata": {},
   "outputs": [
    {
     "name": "stdout",
     "output_type": "stream",
     "text": [
      "(20000, 50)\n",
      "float64\n"
     ]
    }
   ],
   "source": [
    "openPickleFile(\"X_test_TFIDF_AvgW2V\")\n",
    "X_test = temp\n",
    "print(X_test.shape)\n",
    "print(X_test.dtype)"
   ]
  },
  {
   "cell_type": "markdown",
   "metadata": {},
   "source": [
    "**RandomizedSearchCV**"
   ]
  },
  {
   "cell_type": "code",
   "execution_count": 83,
   "metadata": {},
   "outputs": [],
   "source": [
    "y_train =y_train.astype(float)"
   ]
  },
  {
   "cell_type": "code",
   "execution_count": 84,
   "metadata": {},
   "outputs": [
    {
     "data": {
      "text/plain": [
       "dtype('float64')"
      ]
     },
     "execution_count": 84,
     "metadata": {},
     "output_type": "execute_result"
    }
   ],
   "source": [
    "y_train.dtype"
   ]
  },
  {
   "cell_type": "code",
   "execution_count": 85,
   "metadata": {
    "scrolled": true
   },
   "outputs": [
    {
     "name": "stdout",
     "output_type": "stream",
     "text": [
      "LogisticRegression(C=100, class_weight=None, dual=False, fit_intercept=True,\n",
      "          intercept_scaling=1, max_iter=100, multi_class='ovr', n_jobs=1,\n",
      "          penalty='l2', random_state=None, solver='liblinear', tol=0.0001,\n",
      "          verbose=0, warm_start=False)\n",
      "0.9135435776477098\n",
      "CV for TFIDF AVG W2V in range(10e-4, 10e+4) done! Time elapsed: 14.65281343460083 seconds\n"
     ]
    }
   ],
   "source": [
    "time_start = time.time()\n",
    "\n",
    "tuned_parameters = {'C': [10**i for i in range(-4,4,1)]} #params should be passed as a dict not as list of dict.\n",
    "\n",
    "#Using RandomizedSearchCV\n",
    "model =  RandomizedSearchCV(LogisticRegression(), tuned_parameters, scoring = 'f1', cv=5, n_jobs=6, random_state = 12, n_iter=5)\n",
    "model.fit(X_train, y_train)\n",
    "\n",
    "print(model.best_estimator_)\n",
    "print(model.score(X_test, y_test))\n",
    "\n",
    "print ('CV for TFIDF AVG W2V in range(10e-4, 10e+4) done! Time elapsed: {} seconds'.format(time.time()-time_start))"
   ]
  },
  {
   "cell_type": "code",
   "execution_count": 86,
   "metadata": {
    "scrolled": true
   },
   "outputs": [
    {
     "name": "stdout",
     "output_type": "stream",
     "text": [
      "Model with rank: 1\n",
      "Mean validation score: 0.935 (std: 0.002)\n",
      "Parameters: {'C': 100}\n",
      "\n",
      "Model with rank: 2\n",
      "Mean validation score: 0.935 (std: 0.002)\n",
      "Parameters: {'C': 1}\n",
      "\n",
      "Model with rank: 3\n",
      "Mean validation score: 0.934 (std: 0.002)\n",
      "Parameters: {'C': 0.01}\n",
      "\n"
     ]
    }
   ],
   "source": [
    "#print(\"GridSearchCV took %.2f seconds for %d candidate parameter settings.\" % (time() - start, len(results['params'])))\n",
    "report(model.cv_results_)"
   ]
  },
  {
   "cell_type": "code",
   "execution_count": 87,
   "metadata": {
    "scrolled": true
   },
   "outputs": [
    {
     "name": "stdout",
     "output_type": "stream",
     "text": [
      "\n",
      "The CV F1 score of the Logistic Regression is 93.463268%\n",
      "\n",
      "The Test F1 score of the Logistic Regression for C = 100.000000 is 91.354358%\n"
     ]
    }
   ],
   "source": [
    "# ============================== Logistic Regression with C = optimal_C ===============================================\n",
    "optimal_cv_result = max(model.cv_results_['mean_test_score'])\n",
    "acc = optimal_cv_result * float(100)\n",
    "print('\\nThe CV F1 score of the Logistic Regression is %f%%' % (acc))\n",
    "\n",
    "# evaluate accuracy\n",
    "acc = model.score(X_test, y_test) * 100\n",
    "print('\\nThe Test F1 score of the Logistic Regression for C = %f is %f%%' % (model.best_params_['C'], acc))"
   ]
  },
  {
   "cell_type": "markdown",
   "metadata": {},
   "source": [
    "**Precision, Recall and F1 score report**"
   ]
  },
  {
   "cell_type": "code",
   "execution_count": 88,
   "metadata": {},
   "outputs": [
    {
     "name": "stdout",
     "output_type": "stream",
     "text": [
      "             precision    recall  f1-score   support\n",
      "\n",
      "    class 0       0.87      0.65      0.74      3943\n",
      "    class 1       0.92      0.98      0.95     16057\n",
      "\n",
      "avg / total       0.91      0.91      0.91     20000\n",
      "\n"
     ]
    }
   ],
   "source": [
    "y_pred = model.predict(X_test)\n",
    "\n",
    "from sklearn.metrics import classification_report\n",
    "\n",
    "target_names = ['class 0', 'class 1']\n",
    "print(classification_report(y_test, pred, target_names=target_names))"
   ]
  },
  {
   "cell_type": "markdown",
   "metadata": {},
   "source": [
    "**Confusion matrix**"
   ]
  },
  {
   "cell_type": "code",
   "execution_count": 89,
   "metadata": {
    "scrolled": true
   },
   "outputs": [
    {
     "data": {
      "text/plain": [
       "<matplotlib.axes._subplots.AxesSubplot at 0x219305c9208>"
      ]
     },
     "execution_count": 89,
     "metadata": {},
     "output_type": "execute_result"
    },
    {
     "data": {
      "image/png": "[encoded data removed]",
      "text/plain": [
       "<Figure size 432x288 with 2 Axes>"
      ]
     },
     "metadata": {},
     "output_type": "display_data"
    }
   ],
   "source": [
    "import seaborn as sns; sns.set()\n",
    "cnf_matrix = confusion_matrix(y_test, pred)\n",
    "\n",
    "df_cm = pd.DataFrame(cnf_matrix)\n",
    "\n",
    "#sns.set(font_scale=1.4)#for label size\n",
    "sns.heatmap(df_cm, annot=True,annot_kws={\"size\": 15},cmap=\"YlGnBu\")# font size and colors selection."
   ]
  },
  {
   "cell_type": "markdown",
   "metadata": {},
   "source": [
    "**ROC AUC curve**"
   ]
  },
  {
   "cell_type": "code",
   "execution_count": 90,
   "metadata": {},
   "outputs": [
    {
     "data": {
      "image/png": "[encoded data removed]",
      "text/plain": [
       "<Figure size 432x288 with 1 Axes>"
      ]
     },
     "metadata": {},
     "output_type": "display_data"
    }
   ],
   "source": [
    "import scikitplot as skplt\n",
    "\n",
    "LR_optimal = LogisticRegression(C=model.best_params_['C'], penalty='l1').fit(X_train, y_train)\n",
    "\n",
    "predicted_probas = LR_optimal.predict_proba(X_test)\n",
    "\n",
    "skplt.metrics.plot_roc(y_test, predicted_probas, plot_micro=False, plot_macro=False)\n",
    "plt.show()"
   ]
  },
  {
   "cell_type": "markdown",
   "metadata": {
    "collapsed": true
   },
   "source": [
    "## 4.1. Feature importance for both positive and negative features."
   ]
  },
  {
   "cell_type": "markdown",
   "metadata": {},
   "source": [
    "### Top 20 TFIDF-AVG W2V."
   ]
  },
  {
   "cell_type": "code",
   "execution_count": 91,
   "metadata": {},
   "outputs": [],
   "source": [
    "def show_most_informative_features(vectorizer, clf, n=20):\n",
    "    feature_names = w2v_words\n",
    "    coefs_with_fns = sorted(zip(clf.coef_[0], feature_names))\n",
    "    top = zip(coefs_with_fns[:n], coefs_with_fns[:-(n + 1):-1])\n",
    "    print (\"\\tTop {} Negative features\\tTop {} Positive features\".format(n, n))\n",
    "    print (\"\\t------------------------\\t------------------------\")\n",
    "    for (coef_1, fn_1), (coef_2, fn_2) in top:\n",
    "        print (\"\\t%.4f\\t%-15s\\t\\t%.4f\\t%-15s\" % (coef_1, fn_1, coef_2, fn_2))"
   ]
  },
  {
   "cell_type": "code",
   "execution_count": 92,
   "metadata": {
    "scrolled": false
   },
   "outputs": [
    {
     "name": "stdout",
     "output_type": "stream",
     "text": [
      "\tTop 20 Negative features\tTop 20 Positive features\n",
      "\t------------------------\t------------------------\n",
      "\t-0.6118\tuse            \t\t0.8438\tago            \n",
      "\t-0.6087\tsong           \t\t0.6534\tlove           \n",
      "\t-0.4728\tbook           \t\t0.6196\tlaugh          \n",
      "\t-0.3898\tpreschool      \t\t0.5648\tmake           \n",
      "\t-0.3469\tstill          \t\t0.5297\tson            \n",
      "\t-0.3281\tturn           \t\t0.5016\trememb         \n",
      "\t-0.3189\tword           \t\t0.4843\tseri           \n",
      "\t-0.3080\tsilli          \t\t0.4550\tyear           \n",
      "\t-0.2658\tdroop          \t\t0.4497\tshow           \n",
      "\t-0.2602\tsing           \t\t0.4118\tcar            \n",
      "\t-0.2500\ttelevis        \t\t0.4049\tintroduc       \n",
      "\t-0.2303\tthirti         \t\t0.3928\talway          \n",
      "\t-0.1853\tlearn          \t\t0.3808\twhale          \n",
      "\t-0.1496\tteach          \t\t0.3435\tchild          \n",
      "\t-0.1328\tday            \t\t0.3353\tbet            \n",
      "\t-0.1318\tlater          \t\t0.2696\tabl            \n",
      "\t-0.1260\tair            \t\t0.2539\talong          \n",
      "\t-0.0900\tsometh         \t\t0.2501\twill           \n",
      "\t-0.0649\tloud           \t\t0.2379\tmemori         \n",
      "\t-0.0323\tdrive          \t\t0.1607\tlittl          \n"
     ]
    }
   ],
   "source": [
    "show_most_informative_features(w2v_model, LR_optimal, n=20)"
   ]
  },
  {
   "cell_type": "markdown",
   "metadata": {
    "collapsed": true
   },
   "source": [
    "# 5. Perturbation testing on Standardized data for BOW Unigrams."
   ]
  },
  {
   "cell_type": "markdown",
   "metadata": {},
   "source": [
    "**Logistic Regression on X_train without noise data.**"
   ]
  },
  {
   "cell_type": "code",
   "execution_count": 93,
   "metadata": {
    "scrolled": true
   },
   "outputs": [
    {
     "name": "stdout",
     "output_type": "stream",
     "text": [
      "(80000,)\n",
      "object\n"
     ]
    }
   ],
   "source": [
    "openPickleFile(\"X_train\")\n",
    "X_train = temp\n",
    "print(X_train.shape)\n",
    "print(X_train.dtype)"
   ]
  },
  {
   "cell_type": "code",
   "execution_count": 94,
   "metadata": {
    "scrolled": true
   },
   "outputs": [
    {
     "name": "stdout",
     "output_type": "stream",
     "text": [
      "(20000,)\n",
      "object\n"
     ]
    }
   ],
   "source": [
    "openPickleFile(\"X_test\")\n",
    "X_test = temp\n",
    "print(X_test.shape)\n",
    "print(X_test.dtype)"
   ]
  },
  {
   "cell_type": "markdown",
   "metadata": {},
   "source": [
    "**Vectorization of X_train**"
   ]
  },
  {
   "cell_type": "code",
   "execution_count": 95,
   "metadata": {
    "scrolled": false
   },
   "outputs": [
    {
     "name": "stdout",
     "output_type": "stream",
     "text": [
      "the type of count vectorizer  <class 'scipy.sparse.csr.csr_matrix'>\n",
      "the shape of out text BOW vectorizer  (80000, 33484)\n",
      "the number of unique words  33484\n"
     ]
    }
   ],
   "source": [
    "#BoW for X_train\n",
    "count_vect = CountVectorizer(dtype=float) #in scikit-learn\n",
    "fit = count_vect.fit(X_train) #1st fitting X_train for BoW\n",
    "Bow_unigram_train = fit.transform(X_train) # Then transforming X_train using the calculated fit.\n",
    "print(\"the type of count vectorizer \",type(Bow_unigram_train))\n",
    "print(\"the shape of out text BOW vectorizer \",Bow_unigram_train.get_shape())\n",
    "print(\"the number of unique words \", Bow_unigram_train.get_shape()[1])"
   ]
  },
  {
   "cell_type": "code",
   "execution_count": 96,
   "metadata": {},
   "outputs": [],
   "source": [
    "standardized_bigram_train = MaxAbsScaler().fit_transform(Bow_unigram_train)\n",
    "\n",
    "#saving unigram sparse matrix.\n",
    "savePickleFile(standardized_bigram_train, \"X_train_unigram_sparse\")"
   ]
  },
  {
   "cell_type": "code",
   "execution_count": 97,
   "metadata": {
    "scrolled": false
   },
   "outputs": [],
   "source": [
    "# Adding noise to vectorized sparse matrix.\n",
    "noise = 10e-5\n",
    "standardized_bigram_train.data = standardized_bigram_train.data + noise"
   ]
  },
  {
   "cell_type": "code",
   "execution_count": 98,
   "metadata": {},
   "outputs": [],
   "source": [
    "Bow_unigram_X_train_with_noise = standardized_bigram_train #storing the vectorized training data for later use."
   ]
  },
  {
   "cell_type": "code",
   "execution_count": 99,
   "metadata": {},
   "outputs": [],
   "source": [
    "#saving unigram sparse matrix.\n",
    "savePickleFile(Bow_unigram_X_train_with_noise, \"X_train_unigram_sparse+noise\")"
   ]
  },
  {
   "cell_type": "markdown",
   "metadata": {},
   "source": [
    "**Transformation of X_test**"
   ]
  },
  {
   "cell_type": "code",
   "execution_count": 100,
   "metadata": {
    "scrolled": true
   },
   "outputs": [
    {
     "name": "stdout",
     "output_type": "stream",
     "text": [
      "the type of count vectorizer  <class 'scipy.sparse.csr.csr_matrix'>\n",
      "the shape of out text BOW vectorizer  (20000, 33484)\n",
      "the number of unique words  33484\n"
     ]
    }
   ],
   "source": [
    "#BoW for X_test\n",
    "final_counts_test = fit.transform(X_test) # Then transforming X_train using the calculated fit.\n",
    "print(\"the type of count vectorizer \",type(final_counts_test))\n",
    "print(\"the shape of out text BOW vectorizer \",final_counts_test.get_shape())\n",
    "print(\"the number of unique words \", final_counts_test.get_shape()[1])"
   ]
  },
  {
   "cell_type": "code",
   "execution_count": 101,
   "metadata": {},
   "outputs": [
    {
     "data": {
      "text/plain": [
       "<20000x33484 sparse matrix of type '<class 'numpy.float64'>'\n",
       "\twith 623023 stored elements in Compressed Sparse Row format>"
      ]
     },
     "execution_count": 101,
     "metadata": {},
     "output_type": "execute_result"
    }
   ],
   "source": [
    "standardized_unigram_train = MaxAbsScaler().fit_transform(final_counts_test)\n",
    "standardized_unigram_train"
   ]
  },
  {
   "cell_type": "code",
   "execution_count": 102,
   "metadata": {},
   "outputs": [],
   "source": [
    "#saving unigram sparse matrix.\n",
    "savePickleFile(standardized_unigram_train, \"X_test_unigram_sparse\")"
   ]
  },
  {
   "cell_type": "code",
   "execution_count": 103,
   "metadata": {},
   "outputs": [
    {
     "name": "stdout",
     "output_type": "stream",
     "text": [
      "(80000, 33484)\n",
      "float64\n"
     ]
    }
   ],
   "source": [
    "openPickleFile(\"X_train_unigram_sparse\")\n",
    "X_train = temp\n",
    "print(X_train.shape)\n",
    "print(X_train.dtype)"
   ]
  },
  {
   "cell_type": "code",
   "execution_count": 104,
   "metadata": {
    "scrolled": false
   },
   "outputs": [
    {
     "name": "stdout",
     "output_type": "stream",
     "text": [
      "(20000, 33484)\n",
      "float64\n"
     ]
    }
   ],
   "source": [
    "openPickleFile(\"X_test_unigram_sparse\")\n",
    "X_test = temp\n",
    "print(X_test.shape)\n",
    "print(X_test.dtype)"
   ]
  },
  {
   "cell_type": "markdown",
   "metadata": {},
   "source": [
    "**RandomizedSearchCV**"
   ]
  },
  {
   "cell_type": "code",
   "execution_count": 105,
   "metadata": {},
   "outputs": [],
   "source": [
    "y_train =y_train.astype(float)"
   ]
  },
  {
   "cell_type": "code",
   "execution_count": 106,
   "metadata": {},
   "outputs": [
    {
     "data": {
      "text/plain": [
       "dtype('float64')"
      ]
     },
     "execution_count": 106,
     "metadata": {},
     "output_type": "execute_result"
    }
   ],
   "source": [
    "y_train.dtype"
   ]
  },
  {
   "cell_type": "code",
   "execution_count": 107,
   "metadata": {
    "scrolled": true
   },
   "outputs": [
    {
     "name": "stdout",
     "output_type": "stream",
     "text": [
      "LogisticRegression(C=1, class_weight=None, dual=False, fit_intercept=True,\n",
      "          intercept_scaling=1, max_iter=100, multi_class='ovr', n_jobs=1,\n",
      "          penalty='l2', random_state=None, solver='liblinear', tol=0.0001,\n",
      "          verbose=0, warm_start=False)\n",
      "0.9411049656597581\n",
      "CV for Unigrams in range(10e-4, 10e+4) done! Time elapsed: 22.254483222961426 seconds\n"
     ]
    }
   ],
   "source": [
    "time_start = time.time()\n",
    "\n",
    "tuned_parameters = {'C': [10**i for i in range(-4,4,1)]} #params should be passed as a dict not as list of dict.\n",
    "\n",
    "#Using RandomizedSearchCV\n",
    "model =  RandomizedSearchCV(LogisticRegression(), tuned_parameters, scoring = 'f1', cv=5, n_jobs=6, random_state = 12, n_iter=5)\n",
    "model.fit(X_train, y_train)\n",
    "\n",
    "print(model.best_estimator_)\n",
    "print(model.score(X_test, y_test))\n",
    "\n",
    "print ('CV for Unigrams in range(10e-4, 10e+4) done! Time elapsed: {} seconds'.format(time.time()-time_start))"
   ]
  },
  {
   "cell_type": "code",
   "execution_count": 108,
   "metadata": {
    "scrolled": true
   },
   "outputs": [
    {
     "name": "stdout",
     "output_type": "stream",
     "text": [
      "Model with rank: 1\n",
      "Mean validation score: 0.952 (std: 0.001)\n",
      "Parameters: {'C': 1}\n",
      "\n",
      "Model with rank: 2\n",
      "Mean validation score: 0.943 (std: 0.003)\n",
      "Parameters: {'C': 100}\n",
      "\n",
      "Model with rank: 3\n",
      "Mean validation score: 0.922 (std: 0.000)\n",
      "Parameters: {'C': 0.01}\n",
      "\n"
     ]
    }
   ],
   "source": [
    "#print(\"GridSearchCV took %.2f seconds for %d candidate parameter settings.\" % (time() - start, len(results['params'])))\n",
    "report(model.cv_results_)"
   ]
  },
  {
   "cell_type": "code",
   "execution_count": 109,
   "metadata": {},
   "outputs": [],
   "source": [
    "#To find out w for optimal C.\n",
    "clf = LogisticRegression(C=model.best_params_['C'], penalty='l1');\n",
    "clf.fit(X_train, y_train);\n",
    "w = clf.coef_"
   ]
  },
  {
   "cell_type": "code",
   "execution_count": 110,
   "metadata": {
    "scrolled": true
   },
   "outputs": [
    {
     "name": "stdout",
     "output_type": "stream",
     "text": [
      "2564\n"
     ]
    }
   ],
   "source": [
    "print(np.count_nonzero(w))"
   ]
  },
  {
   "cell_type": "code",
   "execution_count": 111,
   "metadata": {
    "scrolled": true
   },
   "outputs": [
    {
     "data": {
      "text/plain": [
       "array([[1.e-05, 1.e-05, 1.e-05, ..., 1.e-05, 1.e-05, 1.e-05]])"
      ]
     },
     "execution_count": 111,
     "metadata": {},
     "output_type": "execute_result"
    }
   ],
   "source": [
    "w = w + 10e-6\n",
    "w"
   ]
  },
  {
   "cell_type": "markdown",
   "metadata": {},
   "source": [
    "**Logistic Regression on X_train + noise data.**"
   ]
  },
  {
   "cell_type": "code",
   "execution_count": 112,
   "metadata": {
    "scrolled": true
   },
   "outputs": [
    {
     "name": "stdout",
     "output_type": "stream",
     "text": [
      "(80000, 33484)\n",
      "float64\n"
     ]
    }
   ],
   "source": [
    "openPickleFile(\"X_train_unigram_sparse+noise\")\n",
    "X_train_noise = temp\n",
    "print(X_train_noise.shape)\n",
    "print(X_train_noise.dtype)"
   ]
  },
  {
   "cell_type": "code",
   "execution_count": 113,
   "metadata": {},
   "outputs": [
    {
     "name": "stdout",
     "output_type": "stream",
     "text": [
      "2566\n"
     ]
    }
   ],
   "source": [
    "clf1 = LogisticRegression(C=model.best_params_['C'], penalty='l1');\n",
    "clf1.fit(X_train_noise, y_train);\n",
    "w1 = clf1.coef_\n",
    "print(np.count_nonzero(w1))\n"
   ]
  },
  {
   "cell_type": "code",
   "execution_count": 114,
   "metadata": {},
   "outputs": [
    {
     "data": {
      "text/plain": [
       "array([[1.e-05, 1.e-05, 1.e-05, ..., 1.e-05, 1.e-05, 1.e-05]])"
      ]
     },
     "execution_count": 114,
     "metadata": {},
     "output_type": "execute_result"
    }
   ],
   "source": [
    "w1 = w1 + 10e-6\n",
    "w1"
   ]
  },
  {
   "cell_type": "code",
   "execution_count": 115,
   "metadata": {
    "scrolled": true
   },
   "outputs": [
    {
     "data": {
      "text/plain": [
       "(2567,)"
      ]
     },
     "execution_count": 115,
     "metadata": {},
     "output_type": "execute_result"
    }
   ],
   "source": [
    "change_in_w = ((abs((w - w1)/w))*100)\n",
    "#change_in_w = change_in_w - 100\n",
    "change_in_w = change_in_w[np.nonzero(change_in_w)]\n",
    "change_in_w.shape"
   ]
  },
  {
   "cell_type": "code",
   "execution_count": 116,
   "metadata": {},
   "outputs": [
    {
     "data": {
      "text/plain": [
       "array([0.06633815, 0.27348873, 0.01408889, ..., 0.07491413, 0.00286478,\n",
       "       0.25673152])"
      ]
     },
     "execution_count": 116,
     "metadata": {},
     "output_type": "execute_result"
    }
   ],
   "source": [
    "change_in_w = change_in_w[change_in_w != np.nan]\n",
    "change_in_w"
   ]
  },
  {
   "cell_type": "code",
   "execution_count": 117,
   "metadata": {
    "scrolled": true
   },
   "outputs": [
    {
     "data": {
      "image/png": "[encoded data removed]",
      "text/plain": [
       "<Figure size 432x288 with 1 Axes>"
      ]
     },
     "metadata": {},
     "output_type": "display_data"
    }
   ],
   "source": [
    "#Elbow curve to decide threshold % change in weights.\n",
    "plt.figure()\n",
    "plt.plot(change_in_w)\n",
    "plt.xlabel(\"Weights\")\n",
    "plt.ylabel(\"Change of Wts in %\")\n",
    "plt.show()"
   ]
  },
  {
   "cell_type": "code",
   "execution_count": 118,
   "metadata": {},
   "outputs": [],
   "source": [
    "#To get the indices of the features exceeding the threshold % change in weight.\n",
    "indices = []\n",
    "threshold = 20\n",
    "for i, j in enumerate(change_in_w):\n",
    "    if j >= threshold:\n",
    "        indices.append(i)\n"
   ]
  },
  {
   "cell_type": "code",
   "execution_count": 119,
   "metadata": {
    "scrolled": true
   },
   "outputs": [
    {
     "name": "stdout",
     "output_type": "stream",
     "text": [
      "[115, 164, 204, 311, 411, 469, 596, 832, 925, 966, 991, 1472, 1580, 1599, 1678, 1729, 2174]\n"
     ]
    }
   ],
   "source": [
    "print(indices)"
   ]
  },
  {
   "cell_type": "markdown",
   "metadata": {},
   "source": [
    "**Multicolinearity testing for features exceeding threshold change in weight.**"
   ]
  },
  {
   "cell_type": "code",
   "execution_count": 120,
   "metadata": {
    "scrolled": false
   },
   "outputs": [
    {
     "name": "stdout",
     "output_type": "stream",
     "text": [
      "['abuela' 'accross' 'acidifi' 'adkin' 'afficianado' 'aftershav' 'ajar'\n",
      " 'also' 'amazom' 'americolor' 'amo' 'arctic' 'arteri' 'artisian'\n",
      " 'asperagus' 'astragalus' 'banilla']\n"
     ]
    }
   ],
   "source": [
    "features_exceeding_threshold = np.take(count_vect.get_feature_names(), indices)\n",
    "print(features_exceeding_threshold)"
   ]
  },
  {
   "cell_type": "markdown",
   "metadata": {
    "collapsed": true
   },
   "source": [
    "## 5.1. Feature importance for both positive and negative features."
   ]
  },
  {
   "cell_type": "markdown",
   "metadata": {},
   "source": [
    "### Top 25 Unigrams."
   ]
  },
  {
   "cell_type": "code",
   "execution_count": 121,
   "metadata": {},
   "outputs": [],
   "source": [
    "LR_optimal = LogisticRegression(C=model.best_params_['C'], penalty='l1').fit(Bow_unigram_train, y_train)"
   ]
  },
  {
   "cell_type": "code",
   "execution_count": 122,
   "metadata": {},
   "outputs": [],
   "source": [
    "def show_most_informative_features(vectorizer, clf, n=20):\n",
    "    feature_names = vectorizer.get_feature_names()\n",
    "    coefs_with_fns = sorted(zip(clf.coef_[0], feature_names))\n",
    "    top = zip(coefs_with_fns[:n], coefs_with_fns[:-(n + 1):-1])\n",
    "    print (\"\\tTop 25 Negative features\\tTop 25 Positive features\")\n",
    "    print (\"\\t------------------------\\t------------------------\")\n",
    "    for (coef_1, fn_1), (coef_2, fn_2) in top:\n",
    "        print (\"\\t%.4f\\t%-15s\\t\\t%.4f\\t%-15s\" % (coef_1, fn_1, coef_2, fn_2))"
   ]
  },
  {
   "cell_type": "code",
   "execution_count": 123,
   "metadata": {
    "scrolled": false
   },
   "outputs": [
    {
     "name": "stdout",
     "output_type": "stream",
     "text": [
      "\tTop 25 Negative features\tTop 25 Positive features\n",
      "\t------------------------\t------------------------\n",
      "\t-6.1367\tdistrust       \t\t5.3587\toverdos        \n",
      "\t-4.9179\tschar          \t\t3.3927\tcollard        \n",
      "\t-4.8443\tbronchial      \t\t3.3336\telev           \n",
      "\t-4.5556\tpatchi         \t\t3.2047\tzinc           \n",
      "\t-4.2023\tcompass        \t\t3.1933\tsunday         \n",
      "\t-4.1445\tweakest        \t\t3.1792\tjuicier        \n",
      "\t-3.6519\tparampara      \t\t3.1033\tdeduct         \n",
      "\t-3.3526\ttao            \t\t3.0016\tramun          \n",
      "\t-3.3391\tnome           \t\t2.9927\trash           \n",
      "\t-3.3364\tmonosodium     \t\t2.9132\tobsess         \n",
      "\t-3.2324\tboyarde        \t\t2.8950\tgraze          \n",
      "\t-3.0533\tworst          \t\t2.8075\tskeptic        \n",
      "\t-2.9714\tcub            \t\t2.7280\toval           \n",
      "\t-2.8364\tunapp          \t\t2.6933\tconceal        \n",
      "\t-2.8117\tbeani          \t\t2.6798\tamus           \n",
      "\t-2.7954\temptor         \t\t2.6539\tmccann         \n",
      "\t-2.7946\tglutano        \t\t2.6505\tdum            \n",
      "\t-2.7860\tcucazza        \t\t2.4701\twhack          \n",
      "\t-2.7655\tgigant         \t\t2.4619\tplaqu          \n",
      "\t-2.6767\tthrash         \t\t2.4503\thook           \n",
      "\t-2.6368\tflavorless     \t\t2.4252\tdoorway        \n",
      "\t-2.6216\tunappet        \t\t2.4211\tdownsid        \n",
      "\t-2.5831\tundrink        \t\t2.4194\tdurachew       \n",
      "\t-2.5171\tdisapoint      \t\t2.3873\tmarvel         \n",
      "\t-2.5100\tdissatisfi     \t\t2.3474\ttad            \n"
     ]
    }
   ],
   "source": [
    "show_most_informative_features(count_vect, LR_optimal, n=25)"
   ]
  },
  {
   "cell_type": "markdown",
   "metadata": {
    "collapsed": true
   },
   "source": [
    "# 6. Sparsity check for increasing value of Lambda."
   ]
  },
  {
   "cell_type": "code",
   "execution_count": 124,
   "metadata": {
    "scrolled": true
   },
   "outputs": [],
   "source": [
    "# More Sparsity (Fewer elements of W* being non-zero) by increasing Lambda (decreasing C or increasing Lambda) \n",
    "\n",
    "import numpy as np\n",
    "w_non_zero = []\n",
    "sparsity = []\n",
    "C = [10**i for i in range(-4,1)]\n",
    "for i in C:\n",
    "    clf = LogisticRegression(C=i, penalty='l1')# Sparsity check only for L1 regularizer, as with L2 regularization sparsity doesn't change.\n",
    "    clf.fit(X_train, y_train)\n",
    "    w = clf.coef_\n",
    "    w_non_zero.append(np.count_nonzero(w))\n",
    "    rows, columns = w.shape\n",
    "    sparsity.append(columns - np.count_nonzero(w))"
   ]
  },
  {
   "cell_type": "code",
   "execution_count": 125,
   "metadata": {
    "scrolled": false
   },
   "outputs": [
    {
     "data": {
      "image/png": "[encoded data removed]",
      "text/plain": [
       "<Figure size 432x288 with 1 Axes>"
      ]
     },
     "metadata": {},
     "output_type": "display_data"
    }
   ],
   "source": [
    "# plot C vs inverse sparsity\n",
    "plt.plot(C, w_non_zero)\n",
    "\n",
    "#for xy in zip(C, w_non_zero):\n",
    "    #plt.annotate('(%s, %s)' % xy, xy=xy, textcoords='data')\n",
    "plt.xlabel('C')\n",
    "plt.xscale('log')\n",
    "plt.ylabel('inverse sparsity')\n",
    "plt.show()"
   ]
  },
  {
   "cell_type": "markdown",
   "metadata": {},
   "source": [
    "**Conclusion:**\n",
    "1. As C value increases sparsity decreases,or as Lambda value decreases sparsity also decreases."
   ]
  },
  {
   "cell_type": "markdown",
   "metadata": {},
   "source": [
    "# 7. Conclusions"
   ]
  },
  {
   "cell_type": "markdown",
   "metadata": {},
   "source": [
    "| A.| Vectorizer   | Model        | Hyperparameter| Train F1       |Test F1       |\n",
    "|---|--------------|--------------|---------------|----------------|--------------|\n",
    "| 1.| BOW(Bigrams) | LR           | C = 1         | 95.534483%     | 94.652843%   |\n",
    "| 2.| TFIDF        | LR           | C = 100       | 95.753395%     | 94.897588%   |\n",
    "| 3.| Avg W2V      | LR           | C = 100       | 94.043473%     | 92.210811%   |\n",
    "| 4.| TFIDF Avg W2V| LR           | C = 1         | 93.463268%     | 91.354358%   |"
   ]
  }
 ],
 "metadata": {
  "kernelspec": {
   "display_name": "Python 3",
   "language": "python",
   "name": "python3"
  },
  "language_info": {
   "codemirror_mode": {
    "name": "ipython",
    "version": 3
   },
   "file_extension": ".py",
   "mimetype": "text/x-python",
   "name": "python",
   "nbconvert_exporter": "python",
   "pygments_lexer": "ipython3",
   "version": "3.6.6"
  }
 },
 "nbformat": 4,
 "nbformat_minor": 2
}
