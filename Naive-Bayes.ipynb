{
 "cells": [
  {
   "cell_type": "code",
   "execution_count": 1,
   "metadata": {},
   "outputs": [
    {
     "name": "stderr",
     "output_type": "stream",
     "text": [
      "C:\\Users\\avinash\\Anaconda3\\lib\\site-packages\\sklearn\\cross_validation.py:41: DeprecationWarning: This module was deprecated in version 0.18 in favor of the model_selection module into which all the refactored classes and functions are moved. Also note that the interface of the new CV iterators are different from that of this module. This module will be removed in 0.20.\n",
      "  \"This module will be removed in 0.20.\", DeprecationWarning)\n"
     ]
    }
   ],
   "source": [
    "# ============================== loading libraries ===========================================\n",
    "import numpy as np\n",
    "import pandas as pd\n",
    "import matplotlib.pyplot as plt\n",
    "from sklearn.cross_validation import train_test_split\n",
    "from sklearn.neighbors import KNeighborsClassifier\n",
    "from sklearn.metrics import accuracy_score\n",
    "from sklearn.cross_validation import cross_val_score\n",
    "from collections import Counter\n",
    "from sklearn.metrics import accuracy_score\n",
    "from sklearn import cross_validation\n",
    "\n",
    "from sklearn import datasets, neighbors\n",
    "from sklearn.model_selection import TimeSeriesSplit\n",
    "import pickle\n",
    "import scipy\n",
    "import time\n",
    "# ============================================================================================="
   ]
  },
  {
   "cell_type": "code",
   "execution_count": 2,
   "metadata": {},
   "outputs": [],
   "source": [
    "#Function to pickle in an object.\n",
    "def openPickleFile(name): #name = the pickle file name, this should be passed as a string inside \" \".\n",
    "    global temp\n",
    "    temp = pickle.load(open(name + \".pickle\",\"rb\"))\n",
    "    return temp"
   ]
  },
  {
   "cell_type": "code",
   "execution_count": 3,
   "metadata": {},
   "outputs": [
    {
     "name": "stdout",
     "output_type": "stream",
     "text": [
      "(33334,)\n",
      "object\n"
     ]
    }
   ],
   "source": [
    "openPickleFile(\"y_train\")\n",
    "y_train = temp\n",
    "print(y_train.shape)\n",
    "print(y_train.dtype)\n"
   ]
  },
  {
   "cell_type": "code",
   "execution_count": 4,
   "metadata": {},
   "outputs": [
    {
     "name": "stdout",
     "output_type": "stream",
     "text": [
      "float64\n"
     ]
    }
   ],
   "source": [
    "y_train[y_train == 'positive'] = 1\n",
    "y_train[y_train == 'negative'] = 0\n",
    "y_train = y_train.astype(float)\n",
    "print(y_train.dtype)"
   ]
  },
  {
   "cell_type": "code",
   "execution_count": 5,
   "metadata": {},
   "outputs": [
    {
     "name": "stdout",
     "output_type": "stream",
     "text": [
      "(16666,)\n",
      "object\n"
     ]
    }
   ],
   "source": [
    "openPickleFile(\"y_test\")\n",
    "y_test = temp\n",
    "print(y_test.shape)\n",
    "print(y_test.dtype)\n"
   ]
  },
  {
   "cell_type": "code",
   "execution_count": 6,
   "metadata": {},
   "outputs": [
    {
     "name": "stdout",
     "output_type": "stream",
     "text": [
      "float64\n"
     ]
    }
   ],
   "source": [
    "y_test[y_test == 'positive'] = 1\n",
    "y_test[y_test == 'negative'] = 0\n",
    "y_test = y_test.astype(float)\n",
    "print(y_test.dtype)"
   ]
  },
  {
   "cell_type": "code",
   "execution_count": 7,
   "metadata": {},
   "outputs": [
    {
     "data": {
      "text/plain": [
       "array([[0.0000e+00, 4.9490e+03],\n",
       "       [1.0000e+00, 2.8385e+04]])"
      ]
     },
     "execution_count": 7,
     "metadata": {},
     "output_type": "execute_result"
    }
   ],
   "source": [
    "#Function to count no. of unique values in variable of any datatype.\n",
    "def unique_count(a):\n",
    "    unique, inverse = np.unique(a, return_inverse=True)\n",
    "    count = np.zeros(len(unique), np.int)\n",
    "    np.add.at(count, inverse, 1)\n",
    "    return np.vstack(( unique, count)).T\n",
    "\n",
    "unique_count(y_train)"
   ]
  },
  {
   "cell_type": "markdown",
   "metadata": {
    "collapsed": true
   },
   "source": [
    "#  CV using Bernouli Naive-bayes algorithm."
   ]
  },
  {
   "cell_type": "markdown",
   "metadata": {
    "collapsed": true
   },
   "source": [
    "# 1. CV on Standardized data for Unigrams"
   ]
  },
  {
   "cell_type": "markdown",
   "metadata": {},
   "source": [
    "### Simple Cross Validation "
   ]
  },
  {
   "cell_type": "code",
   "execution_count": 8,
   "metadata": {},
   "outputs": [
    {
     "name": "stdout",
     "output_type": "stream",
     "text": [
      "(33334, 50)\n",
      "float64\n"
     ]
    }
   ],
   "source": [
    "openPickleFile(\"X_train_BOW_unigram\")\n",
    "X_train = temp\n",
    "print(X_train.shape)\n",
    "print(X_train.dtype)"
   ]
  },
  {
   "cell_type": "code",
   "execution_count": 9,
   "metadata": {},
   "outputs": [
    {
     "name": "stdout",
     "output_type": "stream",
     "text": [
      "(16666, 50)\n",
      "float64\n"
     ]
    }
   ],
   "source": [
    "openPickleFile(\"X_test_BOW_unigram\")\n",
    "X_test = temp\n",
    "print(X_test.shape)\n",
    "print(X_test.dtype)"
   ]
  },
  {
   "cell_type": "code",
   "execution_count": 10,
   "metadata": {},
   "outputs": [
    {
     "name": "stdout",
     "output_type": "stream",
     "text": [
      "\n",
      "CV accuracy for alpha = 0.001000 is 85.137715%\n",
      "\n",
      "CV accuracy for alpha = 0.010000 is 85.137715%\n",
      "\n",
      "CV accuracy for alpha = 0.100000 is 85.137715%\n",
      "\n",
      "CV accuracy for alpha = 1.000000 is 85.137715%\n",
      "\n",
      "CV accuracy for alpha = 10.000000 is 85.110445%\n",
      "\n",
      "CV accuracy for alpha = 100.000000 is 85.101354%\n",
      "\n",
      "CV accuracy for alpha = 1000.000000 is 85.355877%\n",
      "\n",
      "CV accuracy for alpha = 10000.000000 is 85.183165%\n",
      "\n",
      "CV accuracy for alpha = 100000.000000 is 85.183165%\n",
      "\n",
      "****Test accuracy for alpha = 0.001 is 80.709228%\n",
      "CV for alpha in range(10e-3, 10e+6) done! Time elapsed: 0.5864310264587402 seconds\n"
     ]
    }
   ],
   "source": [
    "# split the train data set into cross validation train and cross validation test\n",
    "time_start = time.time()\n",
    "from sklearn.naive_bayes import *\n",
    "from sklearn.naive_bayes import BernoulliNB\n",
    "\n",
    "X_tr, X_cv, y_tr, y_cv = cross_validation.train_test_split(X_train, y_train, test_size=0.33)\n",
    "alpha = [10**i for i in range(-3,6)]\n",
    "\n",
    "for i in alpha:\n",
    "    # instantiate learning model (alpha = 30)\n",
    "    clf = BernoulliNB(alpha=i,binarize=0.0,fit_prior=True,class_prior=None)\n",
    "    \n",
    "    #clf = BernoulliNB(alpha=i,binarize=0.1)\n",
    "\n",
    "    # fitting the model on crossvalidation train\n",
    "    clf.fit(X_tr, y_tr)\n",
    "\n",
    "    # predict the response on the crossvalidation train\n",
    "    pred = clf.predict(X_cv)\n",
    "\n",
    "    # evaluate CV accuracy\n",
    "    acc = accuracy_score(y_cv, pred, normalize=True) * float(100)\n",
    "    print('\\nCV accuracy for alpha = %f is %f%%' % (i, acc))\n",
    "    \n",
    "clf = BernoulliNB(alpha=0.001,binarize=0.1)\n",
    "clf.fit(X_tr,y_tr)\n",
    "pred = clf.predict(X_test)\n",
    "acc = accuracy_score(y_test, pred, normalize=True) * float(100)\n",
    "print('\\n****Test accuracy for alpha = 0.001 is %f%%' % (acc))\n",
    "\n",
    "print ('CV for alpha in range(10e-3, 10e+6) done! Time elapsed: {} seconds'.format(time.time()-time_start))"
   ]
  },
  {
   "cell_type": "code",
   "execution_count": 11,
   "metadata": {
    "scrolled": true
   },
   "outputs": [
    {
     "data": {
      "text/plain": [
       "array([[0.05066693, 0.94933307],\n",
       "       [0.09840797, 0.90159203],\n",
       "       [0.18023902, 0.81976098],\n",
       "       ...,\n",
       "       [0.26654398, 0.73345602],\n",
       "       [0.07889542, 0.92110458],\n",
       "       [0.09025971, 0.90974029]])"
      ]
     },
     "execution_count": 11,
     "metadata": {},
     "output_type": "execute_result"
    }
   ],
   "source": [
    "clf = BernoulliNB(alpha=1e-10)\n",
    "clf.fit(X_tr,y_tr)\n",
    "clf.predict_proba(X_tr)"
   ]
  },
  {
   "cell_type": "markdown",
   "metadata": {},
   "source": [
    "### 10 fold cross validation "
   ]
  },
  {
   "cell_type": "code",
   "execution_count": 12,
   "metadata": {},
   "outputs": [
    {
     "name": "stdout",
     "output_type": "stream",
     "text": [
      "\n",
      "The optimal optimal_alpha is 0.001000.\n"
     ]
    },
    {
     "data": {
      "image/png": "[encoded data removed]",
      "text/plain": [
       "<Figure size 432x288 with 1 Axes>"
      ]
     },
     "metadata": {
      "needs_background": "light"
     },
     "output_type": "display_data"
    },
    {
     "name": "stdout",
     "output_type": "stream",
     "text": [
      "the misclassification error for each alpha value is :  [0.14838 0.14838 0.14838 0.14841 0.14841 0.14913 0.14985 0.14877 0.14847]\n",
      "10 fold CV for alpha in range(10e-3, 10e+6) done! Time elapsed: 6.293203830718994 seconds\n"
     ]
    }
   ],
   "source": [
    "time_start = time.time()\n",
    "\n",
    "# creating odd list of K for KNN\n",
    "#myList = list(np.arrange(1,2,0.01))\n",
    "#alpha = list(filter(lambda x: x % 2 != 0, myList))\n",
    "#alpha = list(np.arange(0.1,10,0.1)) #alpha varies the most in this range.\n",
    "alpha = [10**i for i in range(-3,6)]\n",
    "\n",
    "# empty list that will hold cv scores\n",
    "cv_scores = []\n",
    "\n",
    "# perform 10-fold cross validation\n",
    "for i in alpha:\n",
    "    clf = BernoulliNB(alpha=i,binarize=0.1)\n",
    "    scores = cross_val_score(clf, X_train, y_train, cv=10, scoring='accuracy')\n",
    "    cv_scores.append(scores.mean())\n",
    "\n",
    "# changing to misclassification error\n",
    "MSE = [1 - x for x in cv_scores]\n",
    "\n",
    "# determining best alpha\n",
    "optimal_alpha = alpha[MSE.index(min(MSE))]\n",
    "print('\\nThe optimal optimal_alpha is %f.' % optimal_alpha)\n",
    "\n",
    "# plot misclassification error vs k \n",
    "plt.plot(alpha, MSE)\n",
    "\n",
    "for xy in zip(alpha, np.round(MSE,5)):\n",
    "    plt.annotate('(%s, %s)' % xy, xy=xy, textcoords='data')\n",
    "plt.xscale('log')\n",
    "plt.xlabel('alpha')\n",
    "plt.ylabel('Misclassification Error')\n",
    "plt.show()\n",
    "\n",
    "print(\"the misclassification error for each alpha value is : \", np.round(MSE,5))\n",
    "\n",
    "print ('10 fold CV for alpha in range(10e-3, 10e+6) done! Time elapsed: {} seconds'.format(time.time()-time_start))"
   ]
  },
  {
   "cell_type": "code",
   "execution_count": 13,
   "metadata": {},
   "outputs": [
    {
     "name": "stdout",
     "output_type": "stream",
     "text": [
      "\n",
      "The accuracy of the Bernoulli for alpha = 0.001000 is 80.739230%\n"
     ]
    }
   ],
   "source": [
    "# ============================== KNN with k = optimal_k ===============================================\n",
    "# instantiate learning model k = optimal_k\n",
    "alpha_optimal = BernoulliNB(alpha=optimal_alpha,binarize=0.1)\n",
    "\n",
    "# fitting the model\n",
    "alpha_optimal.fit(X_train, y_train)\n",
    "\n",
    "# predict the response\n",
    "pred = alpha_optimal.predict(X_test)\n",
    "\n",
    "# evaluate accuracy\n",
    "acc = accuracy_score(y_test, pred) * 100\n",
    "print('\\nThe accuracy of the Bernoulli for alpha = %f is %f%%' % (optimal_alpha, acc))"
   ]
  },
  {
   "cell_type": "markdown",
   "metadata": {},
   "source": [
    "## Precision, recall, F1 score."
   ]
  },
  {
   "cell_type": "code",
   "execution_count": 14,
   "metadata": {},
   "outputs": [
    {
     "name": "stdout",
     "output_type": "stream",
     "text": [
      "precision: [0.06963788 0.82363402]\n",
      "recall: [0.00861772 0.97573556]\n",
      "fscore: [0.01533742 0.89325619]\n",
      "support: [ 2901 13765]\n"
     ]
    }
   ],
   "source": [
    "from sklearn.metrics import precision_recall_fscore_support as score\n",
    "\n",
    "precision, recall, fscore, support = score(y_test, pred)\n",
    "\n",
    "print('precision: {}'.format(precision))\n",
    "print('recall: {}'.format(recall))\n",
    "print('fscore: {}'.format(fscore))\n",
    "print('support: {}'.format(support))"
   ]
  },
  {
   "cell_type": "code",
   "execution_count": 15,
   "metadata": {},
   "outputs": [
    {
     "name": "stdout",
     "output_type": "stream",
     "text": [
      "             precision    recall  f1-score   support\n",
      "\n",
      "    class 0       0.07      0.01      0.02      2901\n",
      "    class 1       0.82      0.98      0.89     13765\n",
      "\n",
      "avg / total       0.69      0.81      0.74     16666\n",
      "\n"
     ]
    }
   ],
   "source": [
    "from sklearn.metrics import classification_report\n",
    "\n",
    "target_names = ['class 0', 'class 1']\n",
    "print(classification_report(y_test, pred, target_names=target_names))"
   ]
  },
  {
   "cell_type": "markdown",
   "metadata": {},
   "source": [
    "## Confusion Matrix"
   ]
  },
  {
   "cell_type": "code",
   "execution_count": 16,
   "metadata": {},
   "outputs": [
    {
     "name": "stdout",
     "output_type": "stream",
     "text": [
      "Automatically created module for IPython interactive environment\n"
     ]
    }
   ],
   "source": [
    "#Source: http://scikit-learn.org/stable/auto_examples/model_selection/plot_confusion_matrix.html\n",
    "print(__doc__)\n",
    "\n",
    "import itertools\n",
    "from sklearn.metrics import confusion_matrix\n",
    "\n",
    "def plot_confusion_matrix(cm, classes,\n",
    "                          normalize=False,\n",
    "                          title='Confusion matrix',\n",
    "                          cmap=plt.cm.Blues):\n",
    "    \"\"\"\n",
    "    This function prints and plots the confusion matrix.\n",
    "    Normalization can be applied by setting `normalize=True`.\n",
    "    \"\"\"\n",
    "    if normalize:\n",
    "        cm = cm.astype('float') / cm.sum(axis=1)[:, np.newaxis]\n",
    "        print(\"Normalized confusion matrix\")\n",
    "    else:\n",
    "        print('Confusion matrix, without normalization')\n",
    "\n",
    "    print(cm)\n",
    "\n",
    "    plt.imshow(cm, interpolation='nearest', cmap=cmap)\n",
    "    plt.title(title)\n",
    "    plt.colorbar()\n",
    "    tick_marks = np.arange(len(classes))\n",
    "    plt.xticks(tick_marks, classes, rotation=45)\n",
    "    plt.yticks(tick_marks, classes)\n",
    "\n",
    "    fmt = '.2f' if normalize else 'd'\n",
    "    thresh = cm.max() / 2.\n",
    "    for i, j in itertools.product(range(cm.shape[0]), range(cm.shape[1])):\n",
    "        plt.text(j, i, format(cm[i, j], fmt),\n",
    "                 horizontalalignment=\"center\",\n",
    "                 color=\"white\" if cm[i, j] > thresh else \"black\")\n",
    "\n",
    "    plt.ylabel('True label')\n",
    "    plt.xlabel('Predicted label')\n",
    "    plt.tight_layout()"
   ]
  },
  {
   "cell_type": "code",
   "execution_count": 17,
   "metadata": {},
   "outputs": [
    {
     "name": "stdout",
     "output_type": "stream",
     "text": [
      "Confusion matrix, without normalization\n",
      "[[   25  2876]\n",
      " [  334 13431]]\n"
     ]
    },
    {
     "data": {
      "image/png": "[encoded data removed]",
      "text/plain": [
       "<Figure size 432x288 with 2 Axes>"
      ]
     },
     "metadata": {
      "needs_background": "light"
     },
     "output_type": "display_data"
    }
   ],
   "source": [
    "#Source: http://scikit-learn.org/stable/auto_examples/model_selection/plot_confusion_matrix.html\n",
    "# Compute confusion matrix\n",
    "cnf_matrix = confusion_matrix(y_test, pred)\n",
    "np.set_printoptions(precision=2)\n",
    "\n",
    "class_names=np.unique(y_test)\n",
    "\n",
    "# Plot non-normalized confusion matrix\n",
    "plt.figure()\n",
    "plot_confusion_matrix(cnf_matrix, classes=class_names,\n",
    "                      title='Confusion matrix, without normalization')\n",
    "\n",
    "# Plot normalized confusion matrix\n",
    "#plt.figure()\n",
    "#plot_confusion_matrix(cnf_matrix, classes=class_names, normalize=True,\n",
    "#                      title='Normalized confusion matrix')\n",
    "\n",
    "plt.show()"
   ]
  },
  {
   "cell_type": "markdown",
   "metadata": {
    "collapsed": true
   },
   "source": [
    "# 2. CV on Standardized data of Bigrams"
   ]
  },
  {
   "cell_type": "code",
   "execution_count": 18,
   "metadata": {},
   "outputs": [
    {
     "name": "stdout",
     "output_type": "stream",
     "text": [
      "(33334, 50)\n",
      "float64\n"
     ]
    }
   ],
   "source": [
    "openPickleFile(\"X_train_BOW_bigrams\")\n",
    "X_train = temp\n",
    "print(X_train.shape)\n",
    "print(X_train.dtype)"
   ]
  },
  {
   "cell_type": "code",
   "execution_count": 19,
   "metadata": {},
   "outputs": [
    {
     "name": "stdout",
     "output_type": "stream",
     "text": [
      "(16666, 50)\n",
      "float64\n"
     ]
    }
   ],
   "source": [
    "openPickleFile(\"X_test_BOW_bigrams\")\n",
    "X_test = temp\n",
    "print(X_test.shape)\n",
    "print(X_test.dtype)"
   ]
  },
  {
   "cell_type": "code",
   "execution_count": 20,
   "metadata": {
    "scrolled": true
   },
   "outputs": [
    {
     "data": {
      "text/plain": [
       "array([[0.00e+00, 4.95e+03],\n",
       "       [1.00e+00, 2.84e+04]])"
      ]
     },
     "execution_count": 20,
     "metadata": {},
     "output_type": "execute_result"
    }
   ],
   "source": [
    "unique_count(y_train)"
   ]
  },
  {
   "cell_type": "code",
   "execution_count": 21,
   "metadata": {},
   "outputs": [
    {
     "data": {
      "text/plain": [
       "array([[0.00e+00, 2.90e+03],\n",
       "       [1.00e+00, 1.38e+04]])"
      ]
     },
     "execution_count": 21,
     "metadata": {},
     "output_type": "execute_result"
    }
   ],
   "source": [
    "def unique(a):\n",
    "    unique, counts = np.unique(a, return_counts=True)\n",
    "    return np.asarray((unique, counts)).T\n",
    "\n",
    "unique(y_test)"
   ]
  },
  {
   "cell_type": "code",
   "execution_count": 22,
   "metadata": {},
   "outputs": [
    {
     "name": "stdout",
     "output_type": "stream",
     "text": [
      "\n",
      "CV accuracy for alpha = 0.001000 is 85.474048%\n",
      "\n",
      "CV accuracy for alpha = 0.010000 is 85.474048%\n",
      "\n",
      "CV accuracy for alpha = 0.100000 is 85.474048%\n",
      "\n",
      "CV accuracy for alpha = 1.000000 is 85.474048%\n",
      "\n",
      "CV accuracy for alpha = 10.000000 is 85.483138%\n",
      "\n",
      "CV accuracy for alpha = 100.000000 is 85.574039%\n",
      "\n",
      "CV accuracy for alpha = 1000.000000 is 85.419507%\n",
      "\n",
      "CV accuracy for alpha = 10000.000000 is 85.419507%\n",
      "\n",
      "CV accuracy for alpha = 100000.000000 is 85.419507%\n",
      "\n",
      "****Test accuracy for alpha = 0.001 is 80.421217%\n",
      "CV for alpha in range(10e-3, 10e+6) done! Time elapsed: 0.6263058185577393 seconds\n"
     ]
    }
   ],
   "source": [
    "# split the train data set into cross validation train and cross validation test\n",
    "time_start = time.time()\n",
    "from sklearn.naive_bayes import *\n",
    "from sklearn.naive_bayes import BernoulliNB\n",
    "\n",
    "X_tr, X_cv, y_tr, y_cv = cross_validation.train_test_split(X_train, y_train, test_size=0.33)\n",
    "alpha = [10**i for i in range(-3,6)]\n",
    "\n",
    "for i in alpha:\n",
    "    # instantiate learning model (alpha = 30)\n",
    "    clf = BernoulliNB(alpha=i,binarize=0.0,fit_prior=True,class_prior=None)\n",
    "    \n",
    "    #clf = BernoulliNB(alpha=i,binarize=0.1)\n",
    "\n",
    "    # fitting the model on crossvalidation train\n",
    "    clf.fit(X_tr, y_tr)\n",
    "\n",
    "    # predict the response on the crossvalidation train\n",
    "    pred = clf.predict(X_cv)\n",
    "\n",
    "    # evaluate CV accuracy\n",
    "    acc = accuracy_score(y_cv, pred, normalize=True) * float(100)\n",
    "    print('\\nCV accuracy for alpha = %f is %f%%' % (i, acc))\n",
    "    \n",
    "clf = BernoulliNB(alpha=0.001,binarize=0.1)\n",
    "clf.fit(X_tr,y_tr)\n",
    "pred = clf.predict(X_test)\n",
    "acc = accuracy_score(y_test, pred, normalize=True) * float(100)\n",
    "print('\\n****Test accuracy for alpha = 0.001 is %f%%' % (acc))\n",
    "\n",
    "print ('CV for alpha in range(10e-3, 10e+6) done! Time elapsed: {} seconds'.format(time.time()-time_start))"
   ]
  },
  {
   "cell_type": "code",
   "execution_count": 23,
   "metadata": {
    "scrolled": true
   },
   "outputs": [
    {
     "data": {
      "text/plain": [
       "array([[0.1 , 0.9 ],\n",
       "       [0.39, 0.61],\n",
       "       [0.08, 0.92],\n",
       "       ...,\n",
       "       [0.06, 0.94],\n",
       "       [0.07, 0.93],\n",
       "       [0.06, 0.94]])"
      ]
     },
     "execution_count": 23,
     "metadata": {},
     "output_type": "execute_result"
    }
   ],
   "source": [
    "clf = BernoulliNB(alpha=1e+2)\n",
    "clf.fit(X_tr,y_tr)\n",
    "clf.predict_proba(X_tr)"
   ]
  },
  {
   "cell_type": "markdown",
   "metadata": {},
   "source": [
    "### 10 fold cross validation "
   ]
  },
  {
   "cell_type": "code",
   "execution_count": 24,
   "metadata": {},
   "outputs": [
    {
     "name": "stdout",
     "output_type": "stream",
     "text": [
      "\n",
      "The optimal optimal_alpha is 100.000000.\n"
     ]
    },
    {
     "data": {
      "image/png": "[encoded data removed]",
      "text/plain": [
       "<Figure size 432x288 with 1 Axes>"
      ]
     },
     "metadata": {
      "needs_background": "light"
     },
     "output_type": "display_data"
    },
    {
     "name": "stdout",
     "output_type": "stream",
     "text": [
      "the misclassification error for each alpha value is :  [0.15 0.15 0.15 0.15 0.15 0.15 0.15 0.15 0.15 0.15]\n",
      "10 fold CV for alpha in range(10e-4, 10e+6) done! Time elapsed: 6.854174852371216 seconds\n"
     ]
    }
   ],
   "source": [
    "time_start = time.time()\n",
    "\n",
    "# creating odd list of K for KNN\n",
    "#myList = list(np.arrange(1,2,0.01))\n",
    "#alpha = list(filter(lambda x: x % 2 != 0, myList))\n",
    "#alpha = list(np.arange(0.1,10,0.1)) #alpha varies the most in this range.\n",
    "alpha = [10**i for i in range(-4,6)]\n",
    "\n",
    "# empty list that will hold cv scores\n",
    "cv_scores = []\n",
    "\n",
    "# perform 10-fold cross validation\n",
    "for i in alpha:\n",
    "    clf = BernoulliNB(alpha=i,binarize=0.1)\n",
    "    scores = cross_val_score(clf, X_train, y_train, cv=10, scoring='accuracy')\n",
    "    cv_scores.append(scores.mean())\n",
    "\n",
    "# changing to misclassification error\n",
    "MSE = [1 - x for x in cv_scores]\n",
    "\n",
    "# determining best alpha\n",
    "optimal_alpha = alpha[MSE.index(min(MSE))]\n",
    "print('\\nThe optimal optimal_alpha is %f.' % optimal_alpha)\n",
    "\n",
    "# plot misclassification error vs k \n",
    "plt.plot(alpha, MSE)\n",
    "\n",
    "for xy in zip(alpha, np.round(MSE,5)):\n",
    "    plt.annotate('(%s, %s)' % xy, xy=xy, textcoords='data')\n",
    "plt.xscale('log')\n",
    "plt.xlabel('alpha')\n",
    "plt.ylabel('Misclassification Error')\n",
    "plt.show()\n",
    "\n",
    "print(\"the misclassification error for each alpha value is : \", np.round(MSE,5))\n",
    "\n",
    "print ('10 fold CV for alpha in range(10e-4, 10e+6) done! Time elapsed: {} seconds'.format(time.time()-time_start))"
   ]
  },
  {
   "cell_type": "code",
   "execution_count": 25,
   "metadata": {},
   "outputs": [
    {
     "name": "stdout",
     "output_type": "stream",
     "text": [
      "\n",
      "The accuracy of the Bernoulli for alpha = 100.000000 is 80.283211%\n"
     ]
    }
   ],
   "source": [
    "# ============================== KNN with k = optimal_k ===============================================\n",
    "# instantiate learning model k = optimal_k\n",
    "alpha_optimal = BernoulliNB(alpha=optimal_alpha,binarize=0.1)\n",
    "\n",
    "# fitting the model\n",
    "alpha_optimal.fit(X_train, y_train)\n",
    "\n",
    "# predict the response\n",
    "pred = alpha_optimal.predict(X_test)\n",
    "\n",
    "# evaluate accuracy\n",
    "acc = accuracy_score(y_test, pred) * 100\n",
    "print('\\nThe accuracy of the Bernoulli for alpha = %f is %f%%' % (optimal_alpha, acc))"
   ]
  },
  {
   "cell_type": "code",
   "execution_count": 26,
   "metadata": {},
   "outputs": [
    {
     "name": "stdout",
     "output_type": "stream",
     "text": [
      "precision: [0.1  0.82]\n",
      "recall: [0.02 0.97]\n",
      "fscore: [0.03 0.89]\n",
      "support: [ 2901 13765]\n"
     ]
    }
   ],
   "source": [
    "from sklearn.metrics import precision_recall_fscore_support as score\n",
    "\n",
    "precision, recall, fscore, support = score(y_test, pred)\n",
    "\n",
    "print('precision: {}'.format(precision))\n",
    "print('recall: {}'.format(recall))\n",
    "print('fscore: {}'.format(fscore))\n",
    "print('support: {}'.format(support))"
   ]
  },
  {
   "cell_type": "code",
   "execution_count": 27,
   "metadata": {},
   "outputs": [
    {
     "name": "stdout",
     "output_type": "stream",
     "text": [
      "             precision    recall  f1-score   support\n",
      "\n",
      "    class 0       0.10      0.02      0.03      2901\n",
      "    class 1       0.82      0.97      0.89     13765\n",
      "\n",
      "avg / total       0.70      0.80      0.74     16666\n",
      "\n"
     ]
    }
   ],
   "source": [
    "from sklearn.metrics import classification_report\n",
    "\n",
    "target_names = ['class 0', 'class 1']\n",
    "print(classification_report(y_test, pred, target_names=target_names))"
   ]
  },
  {
   "cell_type": "code",
   "execution_count": 28,
   "metadata": {},
   "outputs": [
    {
     "name": "stdout",
     "output_type": "stream",
     "text": [
      "Confusion matrix, without normalization\n",
      "[[   50  2851]\n",
      " [  435 13330]]\n"
     ]
    },
    {
     "data": {
      "image/png": "[encoded data removed]",
      "text/plain": [
       "<Figure size 432x288 with 2 Axes>"
      ]
     },
     "metadata": {
      "needs_background": "light"
     },
     "output_type": "display_data"
    }
   ],
   "source": [
    "# Compute confusion matrix\n",
    "cnf_matrix = confusion_matrix(y_test, pred)\n",
    "np.set_printoptions(precision=2)\n",
    "\n",
    "class_names=np.unique(y_test)\n",
    "\n",
    "# Plot non-normalized confusion matrix\n",
    "plt.figure()\n",
    "plot_confusion_matrix(cnf_matrix, classes=class_names,\n",
    "                      title='Confusion matrix, without normalization')\n",
    "\n",
    "# Plot normalized confusion matrix\n",
    "#plt.figure()\n",
    "#plot_confusion_matrix(cnf_matrix, classes=class_names, normalize=True,\n",
    "#                      title='Normalized confusion matrix')\n",
    "\n",
    "plt.show()"
   ]
  },
  {
   "cell_type": "markdown",
   "metadata": {
    "collapsed": true
   },
   "source": [
    "# 3. CV on Standardized data for TF-IDF"
   ]
  },
  {
   "cell_type": "code",
   "execution_count": 29,
   "metadata": {},
   "outputs": [
    {
     "name": "stdout",
     "output_type": "stream",
     "text": [
      "(33334, 50)\n",
      "float64\n"
     ]
    }
   ],
   "source": [
    "openPickleFile(\"X_train_tf_idf\")\n",
    "X_train = temp\n",
    "print(X_train.shape)\n",
    "print(X_train.dtype)"
   ]
  },
  {
   "cell_type": "code",
   "execution_count": 30,
   "metadata": {},
   "outputs": [
    {
     "name": "stdout",
     "output_type": "stream",
     "text": [
      "(16666, 50)\n",
      "float64\n"
     ]
    }
   ],
   "source": [
    "openPickleFile(\"X_test_tf_idf\")\n",
    "X_test = temp\n",
    "print(X_test.shape)\n",
    "print(X_test.dtype)"
   ]
  },
  {
   "cell_type": "code",
   "execution_count": 31,
   "metadata": {
    "scrolled": true
   },
   "outputs": [
    {
     "data": {
      "text/plain": [
       "array([[0.00e+00, 4.95e+03],\n",
       "       [1.00e+00, 2.84e+04]])"
      ]
     },
     "execution_count": 31,
     "metadata": {},
     "output_type": "execute_result"
    }
   ],
   "source": [
    "unique_count(y_train)"
   ]
  },
  {
   "cell_type": "code",
   "execution_count": 32,
   "metadata": {},
   "outputs": [
    {
     "name": "stdout",
     "output_type": "stream",
     "text": [
      "\n",
      "CV accuracy for alpha = 0.001000 is 86.264885%\n",
      "\n",
      "CV accuracy for alpha = 0.010000 is 86.264885%\n",
      "\n",
      "CV accuracy for alpha = 0.100000 is 86.273975%\n",
      "\n",
      "CV accuracy for alpha = 1.000000 is 86.273975%\n",
      "\n",
      "CV accuracy for alpha = 10.000000 is 86.264885%\n",
      "\n",
      "CV accuracy for alpha = 100.000000 is 86.210345%\n",
      "\n",
      "CV accuracy for alpha = 1000.000000 is 85.764930%\n",
      "\n",
      "CV accuracy for alpha = 10000.000000 is 85.028634%\n",
      "\n",
      "CV accuracy for alpha = 100000.000000 is 85.028634%\n",
      "\n",
      "****Test accuracy for alpha = 0.001 is 80.805232%\n",
      "CV for alpha in range(10e-3, 10e+6) done! Time elapsed: 0.685166597366333 seconds\n"
     ]
    }
   ],
   "source": [
    "# split the train data set into cross validation train and cross validation test\n",
    "time_start = time.time()\n",
    "from sklearn.naive_bayes import *\n",
    "from sklearn.naive_bayes import BernoulliNB\n",
    "\n",
    "X_tr, X_cv, y_tr, y_cv = cross_validation.train_test_split(X_train, y_train, test_size=0.33)\n",
    "alpha = [10**i for i in range(-3,6)]\n",
    "\n",
    "for i in alpha:\n",
    "    # instantiate learning model (alpha = 30)\n",
    "    clf = BernoulliNB(alpha=i,binarize=0.0,fit_prior=True,class_prior=None)\n",
    "    \n",
    "    #clf = BernoulliNB(alpha=i,binarize=0.1)\n",
    "\n",
    "    # fitting the model on crossvalidation train\n",
    "    clf.fit(X_tr, y_tr)\n",
    "\n",
    "    # predict the response on the crossvalidation train\n",
    "    pred = clf.predict(X_cv)\n",
    "\n",
    "    # evaluate CV accuracy\n",
    "    acc = accuracy_score(y_cv, pred, normalize=True) * float(100)\n",
    "    print('\\nCV accuracy for alpha = %f is %f%%' % (i, acc))\n",
    "    \n",
    "clf = BernoulliNB(alpha=0.001,binarize=0.1)\n",
    "clf.fit(X_tr,y_tr)\n",
    "pred = clf.predict(X_test)\n",
    "acc = accuracy_score(y_test, pred, normalize=True) * float(100)\n",
    "print('\\n****Test accuracy for alpha = 0.001 is %f%%' % (acc))\n",
    "\n",
    "print ('CV for alpha in range(10e-3, 10e+6) done! Time elapsed: {} seconds'.format(time.time()-time_start))"
   ]
  },
  {
   "cell_type": "code",
   "execution_count": 33,
   "metadata": {
    "scrolled": true
   },
   "outputs": [
    {
     "data": {
      "text/plain": [
       "array([[0.6 , 0.4 ],\n",
       "       [0.04, 0.96],\n",
       "       [0.17, 0.83],\n",
       "       ...,\n",
       "       [0.04, 0.96],\n",
       "       [0.43, 0.57],\n",
       "       [0.04, 0.96]])"
      ]
     },
     "execution_count": 33,
     "metadata": {},
     "output_type": "execute_result"
    }
   ],
   "source": [
    "clf = BernoulliNB(alpha=1e-10)\n",
    "clf.fit(X_tr,y_tr)\n",
    "clf.predict_proba(X_tr)"
   ]
  },
  {
   "cell_type": "markdown",
   "metadata": {},
   "source": [
    "### 10 fold cross validation "
   ]
  },
  {
   "cell_type": "code",
   "execution_count": 34,
   "metadata": {},
   "outputs": [
    {
     "name": "stdout",
     "output_type": "stream",
     "text": [
      "\n",
      "The optimal optimal_alpha is 100.000000.\n"
     ]
    },
    {
     "data": {
      "image/png": "[encoded data removed]",
      "text/plain": [
       "<Figure size 432x288 with 1 Axes>"
      ]
     },
     "metadata": {
      "needs_background": "light"
     },
     "output_type": "display_data"
    },
    {
     "name": "stdout",
     "output_type": "stream",
     "text": [
      "the misclassification error for each alpha value is :  [0.14 0.14 0.14 0.14 0.14 0.14 0.14 0.14 0.15 0.15]\n",
      "10 fold CV for alpha in range(10e-4, 10e+6) done! Time elapsed: 6.795823574066162 seconds\n"
     ]
    }
   ],
   "source": [
    "time_start = time.time()\n",
    "\n",
    "# creating odd list of K for KNN\n",
    "#myList = list(np.arrange(1,2,0.01))\n",
    "#alpha = list(filter(lambda x: x % 2 != 0, myList))\n",
    "#alpha = list(np.arange(0.1,10,0.1)) #alpha varies the most in this range.\n",
    "alpha = [10**i for i in range(-4,6)]\n",
    "\n",
    "# empty list that will hold cv scores\n",
    "cv_scores = []\n",
    "\n",
    "# perform 10-fold cross validation\n",
    "for i in alpha:\n",
    "    clf = BernoulliNB(alpha=i,binarize=0.1)\n",
    "    scores = cross_val_score(clf, X_train, y_train, cv=10, scoring='accuracy')\n",
    "    cv_scores.append(scores.mean())\n",
    "\n",
    "# changing to misclassification error\n",
    "MSE = [1 - x for x in cv_scores]\n",
    "\n",
    "# determining best alpha\n",
    "optimal_alpha = alpha[MSE.index(min(MSE))]\n",
    "print('\\nThe optimal optimal_alpha is %f.' % optimal_alpha)\n",
    "\n",
    "# plot misclassification error vs k \n",
    "plt.plot(alpha, MSE)\n",
    "\n",
    "for xy in zip(alpha, np.round(MSE,5)):\n",
    "    plt.annotate('(%s, %s)' % xy, xy=xy, textcoords='data')\n",
    "plt.xscale('log')\n",
    "plt.xlabel('alpha')\n",
    "plt.ylabel('Misclassification Error')\n",
    "plt.show()\n",
    "\n",
    "print(\"the misclassification error for each alpha value is : \", np.round(MSE,5))\n",
    "\n",
    "print ('10 fold CV for alpha in range(10e-4, 10e+6) done! Time elapsed: {} seconds'.format(time.time()-time_start))"
   ]
  },
  {
   "cell_type": "code",
   "execution_count": 35,
   "metadata": {},
   "outputs": [
    {
     "name": "stdout",
     "output_type": "stream",
     "text": [
      "\n",
      "The accuracy of the Bernoulli for alpha = 100.000000 is 80.733229%\n"
     ]
    }
   ],
   "source": [
    "# ============================== KNN with k = optimal_k ===============================================\n",
    "# instantiate learning model k = optimal_k\n",
    "alpha_optimal = BernoulliNB(alpha=optimal_alpha,binarize=0.1)\n",
    "\n",
    "# fitting the model\n",
    "alpha_optimal.fit(X_train, y_train)\n",
    "\n",
    "# predict the response\n",
    "pred = alpha_optimal.predict(X_test)\n",
    "\n",
    "# evaluate accuracy\n",
    "acc = accuracy_score(y_test, pred) * 100\n",
    "print('\\nThe accuracy of the Bernoulli for alpha = %f is %f%%' % (optimal_alpha, acc))"
   ]
  },
  {
   "cell_type": "code",
   "execution_count": 36,
   "metadata": {},
   "outputs": [
    {
     "name": "stdout",
     "output_type": "stream",
     "text": [
      "precision: [0.22 0.83]\n",
      "recall: [0.04 0.97]\n",
      "fscore: [0.07 0.89]\n",
      "support: [ 2901 13765]\n"
     ]
    }
   ],
   "source": [
    "from sklearn.metrics import precision_recall_fscore_support as score\n",
    "\n",
    "precision, recall, fscore, support = score(y_test, pred)\n",
    "\n",
    "print('precision: {}'.format(precision))\n",
    "print('recall: {}'.format(recall))\n",
    "print('fscore: {}'.format(fscore))\n",
    "print('support: {}'.format(support))"
   ]
  },
  {
   "cell_type": "code",
   "execution_count": 37,
   "metadata": {},
   "outputs": [
    {
     "name": "stdout",
     "output_type": "stream",
     "text": [
      "             precision    recall  f1-score   support\n",
      "\n",
      "    class 0       0.22      0.04      0.07      2901\n",
      "    class 1       0.83      0.97      0.89     13765\n",
      "\n",
      "avg / total       0.72      0.81      0.75     16666\n",
      "\n"
     ]
    }
   ],
   "source": [
    "from sklearn.metrics import classification_report\n",
    "\n",
    "target_names = ['class 0', 'class 1']\n",
    "print(classification_report(y_test, pred, target_names=target_names))"
   ]
  },
  {
   "cell_type": "code",
   "execution_count": 38,
   "metadata": {},
   "outputs": [
    {
     "name": "stdout",
     "output_type": "stream",
     "text": [
      "Confusion matrix, without normalization\n",
      "[[  121  2780]\n",
      " [  431 13334]]\n"
     ]
    },
    {
     "data": {
      "image/png": "[encoded data removed]",
      "text/plain": [
       "<Figure size 432x288 with 2 Axes>"
      ]
     },
     "metadata": {
      "needs_background": "light"
     },
     "output_type": "display_data"
    }
   ],
   "source": [
    "# Compute confusion matrix\n",
    "cnf_matrix = confusion_matrix(y_test, pred)\n",
    "np.set_printoptions(precision=2)\n",
    "\n",
    "class_names=np.unique(y_test)\n",
    "\n",
    "# Plot non-normalized confusion matrix\n",
    "plt.figure()\n",
    "plot_confusion_matrix(cnf_matrix, classes=class_names,\n",
    "                      title='Confusion matrix, without normalization')\n",
    "\n",
    "# Plot normalized confusion matrix\n",
    "#plt.figure()\n",
    "#plot_confusion_matrix(cnf_matrix, classes=class_names, normalize=True,\n",
    "#                      title='Normalized confusion matrix')\n",
    "\n",
    "plt.show()"
   ]
  },
  {
   "cell_type": "markdown",
   "metadata": {},
   "source": [
    "# 4. Feature importance or Top 25 most important words for BOW."
   ]
  },
  {
   "cell_type": "code",
   "execution_count": 39,
   "metadata": {},
   "outputs": [
    {
     "name": "stdout",
     "output_type": "stream",
     "text": [
      "(33334,)\n",
      "object\n"
     ]
    }
   ],
   "source": [
    "openPickleFile(\"X_train\")\n",
    "X_train = temp\n",
    "print(X_train.shape)\n",
    "print(X_train.dtype)"
   ]
  },
  {
   "cell_type": "markdown",
   "metadata": {},
   "source": [
    "## Top 25 Bigrams."
   ]
  },
  {
   "cell_type": "code",
   "execution_count": 40,
   "metadata": {
    "scrolled": false
   },
   "outputs": [
    {
     "name": "stdout",
     "output_type": "stream",
     "text": [
      "['aaaaah satisfi' 'aaa spelt' 'aaa tue' 'aad' 'aaaa' 'aaaaaah' 'abandon'\n",
      " 'aafco' 'aaa' 'aaah inhal' 'aachen printen' 'aauc' 'aafco certifi'\n",
      " 'abandon one' 'aana' 'aaaaaah melt' 'abalon like' 'aagh' 'abandn pirat'\n",
      " 'aachen munich' 'aback price' 'aagh yelp' 'aauc shelv' 'aafco profil'\n",
      " 'aback']\n",
      "['aaa spelt' 'aaa tue' 'aaaa' 'aaah miss' 'aaaaaah' 'aaaaawsom chump'\n",
      " 'aaaahhhhhh' 'aaa' 'aana' 'aachen munich' 'aagh yelp' 'aaaahhhhhh must'\n",
      " 'aaaaawsom' 'aaaaah' 'aaaaaah melt' 'abandon soft' 'abandon hair'\n",
      " 'aachen printen' 'abandon human' 'aagh' 'aafco larg' 'aad sausag'\n",
      " 'abandn' 'abalon' 'aback open']\n"
     ]
    }
   ],
   "source": [
    "from sklearn.feature_extraction.text import CountVectorizer\n",
    "\n",
    "count_vect = CountVectorizer(ngram_range=(1,2))\n",
    "count_vect.fit_transform(X_train)\n",
    "\n",
    "NB_optimal = BernoulliNB(alpha=1e+2)\n",
    "NB_optimal.fit(X_tr, y_tr)\n",
    "pred_proba = NB_optimal.predict_proba(X_tr)\n",
    "#words = np.take(count_vect.get_feature_names(), pred_proba.argmax(axis=1))\n",
    "\n",
    "neg_class_prob_sorted = NB_optimal.feature_log_prob_[0, :].argsort()\n",
    "pos_class_prob_sorted = NB_optimal.feature_log_prob_[1, :].argsort()\n",
    "\n",
    "print(np.take(count_vect.get_feature_names(), neg_class_prob_sorted[:25]))\n",
    "print(np.take(count_vect.get_feature_names(), pos_class_prob_sorted[:25]))\n"
   ]
  },
  {
   "cell_type": "markdown",
   "metadata": {},
   "source": [
    "# 5. Feature importance or Top 25 most important words for TFIDF."
   ]
  },
  {
   "cell_type": "code",
   "execution_count": 41,
   "metadata": {},
   "outputs": [
    {
     "name": "stdout",
     "output_type": "stream",
     "text": [
      "['aaaaah satisfi' 'aaa spelt' 'aaa tue' 'aad' 'aaaa' 'aaaaaah' 'abandon'\n",
      " 'aafco' 'aaa' 'aaah inhal' 'aachen printen' 'aauc' 'aafco certifi'\n",
      " 'abandon one' 'aana' 'aaaaaah melt' 'abalon like' 'aagh' 'abandn pirat'\n",
      " 'aachen munich' 'aback price' 'aagh yelp' 'aauc shelv' 'aafco profil'\n",
      " 'aback']\n",
      "['aaa spelt' 'aaa tue' 'aaaa' 'aaah miss' 'aaaaaah' 'aaaaawsom chump'\n",
      " 'aaaahhhhhh' 'aaa' 'aana' 'aachen munich' 'aagh yelp' 'aaaahhhhhh must'\n",
      " 'aaaaawsom' 'aaaaah' 'aaaaaah melt' 'abandon soft' 'abandon hair'\n",
      " 'aachen printen' 'abandon human' 'aagh' 'aafco larg' 'aad sausag'\n",
      " 'abandn' 'abalon' 'aback open']\n"
     ]
    }
   ],
   "source": [
    "from sklearn.feature_extraction.text import TfidfVectorizer\n",
    "\n",
    "count_vect = TfidfVectorizer(ngram_range=(1,2))\n",
    "count_vect.fit_transform(X_train)\n",
    "\n",
    "NB_optimal = BernoulliNB(alpha=1e+2)\n",
    "NB_optimal.fit(X_tr, y_tr)\n",
    "pred_proba = NB_optimal.predict_proba(X_tr)\n",
    "#words = np.take(count_vect.get_feature_names(), pred_proba.argmax(axis=1))\n",
    "\n",
    "neg_class_prob_sorted = NB_optimal.feature_log_prob_[0, :].argsort()\n",
    "pos_class_prob_sorted = NB_optimal.feature_log_prob_[1, :].argsort()\n",
    "np.take\n",
    "print(np.take(count_vect.get_feature_names(), neg_class_prob_sorted[:25]))\n",
    "print(np.take(count_vect.get_feature_names(), pos_class_prob_sorted[:25]))"
   ]
  },
  {
   "cell_type": "code",
   "execution_count": null,
   "metadata": {},
   "outputs": [],
   "source": []
  }
 ],
 "metadata": {
  "kernelspec": {
   "display_name": "Python 3",
   "language": "python",
   "name": "python3"
  },
  "language_info": {
   "codemirror_mode": {
    "name": "ipython",
    "version": 3
   },
   "file_extension": ".py",
   "mimetype": "text/x-python",
   "name": "python",
   "nbconvert_exporter": "python",
   "pygments_lexer": "ipython3",
   "version": "3.6.6"
  }
 },
 "nbformat": 4,
 "nbformat_minor": 2
}
